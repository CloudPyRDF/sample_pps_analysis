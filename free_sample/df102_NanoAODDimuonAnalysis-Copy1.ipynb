{
 "cells": [
  {
   "cell_type": "markdown",
   "metadata": {},
   "source": [
    "![ROOT Logo](http://root.cern.ch/img/logos/ROOT_Logo/website-banner/website-banner-%28not%20root%20picture%29.jpg)\n",
    "<br />\n",
    "# **NanoAOD files processed with Distristruted RDataFrame in Python**\n",
    "<hr style=\"border-top-width: 4px; border-top-color: #34609b;\">\n",
    "\n",
    "\n",
    "[`df102_NanoAODDimuonAnalysis`](https://root.cern.ch/doc/master/df102__NanoAODDimuonAnalysis_8py.html) ROOT tutorial running with PyRDF.\n",
    "\n",
    "The NanoAOD-like input files are filled with 66 mio. events from CMS OpenData containing muon candidates part of 2012 dataset ([DOI: 10.7483/OPENDATA.CMS.YLIC.86ZZ](http://opendata.cern.ch/record/6004) and [DOI: 10.7483/OPENDATA.CMS.M5AD.Y3V3](http://opendata.cern.ch/record/6030)).\n",
    "\n",
    "The macro matches muon pairs and produces an histogram of the dimuon mass spectrum showing resonances up to the Z mass. Note that the bump at 30 GeV is not a resonance but a trigger effect.\n",
    "\n",
    "Some more details about the dataset:\n",
    "- It contains about 66 millions events (muon and electron collections, plus some other information, e.g. about primary vertices)\n",
    "- It spans two compressed ROOT files located on EOS for about a total size of 7.5 GB.\n",
    "\n",
    "Date: April 2019<br>\n",
    "Author: Stefan Wunsch (KIT, CERN)<br>\n",
    "Adapted to PyRDF: Javier Cervantes Villanueva (CERN)\n",
    "\n",
    "**Requirements: ROOT-HEAD (Use the Bleeding Edge in the SWAN configuration)**"
   ]
  },
  {
   "cell_type": "code",
   "execution_count": 1,
   "metadata": {},
   "outputs": [],
   "source": [
    "%%bash\n",
    "mkdir -p ~/.aws && cat <<EOF > ~/.aws/credentials\n",
    "\n",
    "EOF"
   ]
  },
  {
   "cell_type": "code",
   "execution_count": 2,
   "metadata": {},
   "outputs": [
    {
     "name": "stdout",
     "output_type": "stream",
     "text": [
      "Welcome to JupyROOT 6.24/05\n"
     ]
    }
   ],
   "source": [
    "import ROOT\n",
    "\n",
    "RDataFrame =  ROOT.RDF.Experimental.Distributed.AWS.RDataFrame\n",
    "nentries = pow(10, 1)\n",
    "df = RDataFrame(nentries, npartitions=10)"
   ]
  },
  {
   "cell_type": "code",
   "execution_count": 3,
   "metadata": {},
   "outputs": [],
   "source": [
    "%%bash\n",
    "rm -f results/*"
   ]
  },
  {
   "cell_type": "code",
   "execution_count": 4,
   "metadata": {},
   "outputs": [
    {
     "name": "stdout",
     "output_type": "stream",
     "text": [
      "/tmp/certs\n",
      "(10, 38.096964597702026, 0.009147882461547852)\n",
      "99999901411.34814\n"
     ]
    }
   ],
   "source": [
    "op_string = \"double sumvar = 0; for (long i = 0; i < 1000000000; i++){ auto rnd = gRandom->Gaus(10, 1); sumvar += rnd; }; return sumvar;\"\n",
    "\n",
    "\n",
    "c1 = df.Define(\"sumcol\", op_string).Sum(\"sumcol\")\n",
    "\n",
    "print(c1.GetValue())"
   ]
  },
  {
   "cell_type": "code",
   "execution_count": null,
   "metadata": {},
   "outputs": [],
   "source": []
  }
 ],
 "metadata": {
  "kernelspec": {
   "display_name": "Python 3 (ipykernel)",
   "language": "python",
   "name": "python3"
  },
  "language_info": {
   "codemirror_mode": {
    "name": "ipython",
    "version": 3
   },
   "file_extension": ".py",
   "mimetype": "text/x-python",
   "name": "python",
   "nbconvert_exporter": "python",
   "pygments_lexer": "ipython3",
   "version": "3.8.10"
  },
  "sparkconnect": {
   "bundled_options": [],
   "list_of_options": [
    {
     "name": "spark.executor.extraLibraryPath",
     "value": "{LD_LIBRARY_PATH},PyRDF"
    },
    {
     "name": "spark.yarn.dist.archives",
     "value": "PyRDF.zip#PyRDF"
    },
    {
     "name": "spark.yarn.dist.files",
     "value": "./initialize.h"
    }
   ]
  }
 },
 "nbformat": 4,
 "nbformat_minor": 2
}
