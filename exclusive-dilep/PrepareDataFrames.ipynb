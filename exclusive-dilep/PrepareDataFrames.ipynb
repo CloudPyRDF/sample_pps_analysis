{
 "cells": [
  {
   "cell_type": "markdown",
   "id": "4a053881",
   "metadata": {},
   "source": [
    "# Di-lepton analysis\n",
    "\n",
    "### Introduction\n",
    "\n",
    "This notebook is used to process the data stored in [NANOAOD](https://twiki.cern.ch/twiki/bin/view/CMSPublic/WorkBookNanoAOD) format, and select candidate events of exclusive dilepton production, $pp\\to p\\oplus\\ell\\ell\\oplus p$, with $\\ell\\in\\{ e,\\mu,\\tau \\} $. Feynman diagram of this process is shown bellow: \n",
    "\n",
    "<img src=\"img/diagrams.png\" alt=\"Feynman diagrams\" width=\"800\">\n",
    "\n"
   ]
  },
  {
   "cell_type": "markdown",
   "id": "a6209da4",
   "metadata": {},
   "source": [
    "This notebook was prepared based on the [df102_NanoAODDimuonAnalysis.py](https://root.cern.ch/doc/master/group__tutorial__dataframe.html) example from ROOT."
   ]
  },
  {
   "cell_type": "code",
   "execution_count": 1,
   "id": "988c84cf",
   "metadata": {},
   "outputs": [
    {
     "name": "stdout",
     "output_type": "stream",
     "text": [
      "Welcome to JupyROOT 6.24/00\n"
     ]
    },
    {
     "data": {
      "text/plain": [
       "True"
      ]
     },
     "execution_count": 1,
     "metadata": {},
     "output_type": "execute_result"
    }
   ],
   "source": [
    "import ROOT\n",
    " \n",
    "# Enable multi-threading\n",
    "ROOT.ROOT.EnableImplicitMT()\n",
    "\n",
    "#include auxiliary functions from C++ header\n",
    "ROOT.gInterpreter.Declare('#include \"SelectorTools.h\"')"
   ]
  },
  {
   "cell_type": "markdown",
   "id": "15a242d0",
   "metadata": {},
   "source": [
    "### Datasets\n",
    "`Datasets.py` contains the list of datasets that can be used in the analysis. The `listDatasets()` command will print out the complete list of datasets and also information about samples availability on EOS. "
   ]
  },
  {
   "cell_type": "code",
   "execution_count": 2,
   "id": "79546d8c",
   "metadata": {
    "scrolled": false
   },
   "outputs": [
    {
     "name": "stdout",
     "output_type": "stream",
     "text": [
      "The following datasets are available:\n",
      "/DYJetsToLL_M-50_TuneCP5_13TeV-amcatnloFXFX-pythia8/RunIISummer20UL18NanoAODv9-Pilot_106X_upgrade2018_realistic_v15_L1v1-v2/NANOAODSIM (No directories available in EOS for this dataset)\n",
      "/DYToMuMu_pomflux_Pt-30_TuneCP5_13TeV-pythia8/RunIISummer20UL18NanoAODv9-106X_upgrade2018_realistic_v16_L1v1-v1/NANOAODSIM (No directories available in EOS for this dataset)\n",
      "/SingleMuon/Run2017A-UL2017_MiniAODv2_NanoAODv9-v1/NANOAOD (No directories available in EOS for this dataset)\n",
      "/SingleMuon/Run2017B-UL2017_MiniAODv2_NanoAODv9-v1/NANOAOD (in EOS: nfiles = 33, size = 56.4GB)\n",
      "/SingleMuon/Run2017C-UL2017_MiniAODv2_NanoAODv9-v1/NANOAOD (No directories available in EOS for this dataset)\n",
      "/SingleMuon/Run2017D-UL2017_MiniAODv2_NanoAODv9-v1/NANOAOD (No directories available in EOS for this dataset)\n",
      "/SingleMuon/Run2017E-UL2017_MiniAODv2_NanoAODv9-v1/NANOAOD (No directories available in EOS for this dataset)\n",
      "/SingleMuon/Run2017F-UL2017_MiniAODv2_NanoAODv9-v1/NANOAOD (No directories available in EOS for this dataset)\n",
      "/DoubleMuon/Run2017A-UL2017_MiniAODv2_NanoAODv9-v1/NANOAOD (No directories available in EOS for this dataset)\n",
      "/DoubleMuon/Run2017B-UL2017_MiniAODv2_NanoAODv9-v1/NANOAOD (in EOS: nfiles = 8, size = 12.67GB)\n",
      "/DoubleMuon/Run2017C-UL2017_MiniAODv2_NanoAODv9-v1/NANOAOD (in EOS: nfiles = 29, size = 47.48GB)\n",
      "/DoubleMuon/Run2017D-UL2017_MiniAODv2_NanoAODv9-v1/NANOAOD (in EOS: nfiles = 16, size = 22.21GB)\n",
      "/DoubleMuon/Run2017E-UL2017_MiniAODv2_NanoAODv9-v1/NANOAOD (in EOS: nfiles = 34, size = 53.21GB)\n",
      "/DoubleMuon/Run2017F-UL2017_MiniAODv2_NanoAODv9-v1/NANOAOD (in EOS: nfiles = 60, size = 82.39GB)\n",
      "/SingleElectron/Run2017A-UL2017_MiniAODv2_NanoAODv9-v1/NANOAOD (No directories available in EOS for this dataset)\n",
      "/SingleElectron/Run2017B-UL2017_MiniAODv2_NanoAODv9-v1/NANOAOD (No directories available in EOS for this dataset)\n",
      "/SingleElectron/Run2017C-UL2017_MiniAODv2_NanoAODv9-v1/NANOAOD (No directories available in EOS for this dataset)\n",
      "/SingleElectron/Run2017D-UL2017_MiniAODv2_NanoAODv9-v1/NANOAOD (No directories available in EOS for this dataset)\n",
      "/SingleElectron/Run2017E-UL2017_MiniAODv2_NanoAODv9-v1/NANOAOD (No directories available in EOS for this dataset)\n",
      "/SingleElectron/Run2017F-UL2017_MiniAODv2_NanoAODv9-v1/NANOAOD (No directories available in EOS for this dataset)\n",
      "/SingleMuon/Run2018A-UL2018_MiniAODv2_NanoAODv9-v1/NANOAOD (No directories available in EOS for this dataset)\n",
      "/SingleMuon/Run2018B-UL2018_MiniAODv2_NanoAODv9-v1/NANOAOD (No directories available in EOS for this dataset)\n",
      "/SingleMuon/Run2018C-UL2018_MiniAODv2_NanoAODv9-v1/NANOAOD (No directories available in EOS for this dataset)\n",
      "/SingleMuon/Run2018D-UL2018_MiniAODv2_NanoAODv9-v1/NANOAOD (No directories available in EOS for this dataset)\n",
      "/DoubleMuon/Run2018A-UL2018_MiniAODv2_NanoAODv9-v1/NANOAOD (in EOS: nfiles = 54, size = 77.89GB)\n",
      "/DoubleMuon/Run2018B-UL2018_MiniAODv2_NanoAODv9-v1/NANOAOD (in EOS: nfiles = 20, size = 35.36GB)\n",
      "/DoubleMuon/Run2018C-UL2018_MiniAODv2_NanoAODv9-v1/NANOAOD (in EOS: nfiles = 25, size = 35.45GB)\n",
      "/DoubleMuon/Run2018D-UL2018_MiniAODv2_NanoAODv9-v1/NANOAOD (in EOS: nfiles = 93, size = 166.24GB)\n",
      "/EGamma/Run2018A-UL2018_MiniAODv2_NanoAODv9-v1/NANOAOD (in EOS: nfiles = 1, size = 14.23MB)\n",
      "/EGamma/Run2018B-UL2018_MiniAODv2_NanoAODv9-v1/NANOAOD (No directories available in EOS for this dataset)\n",
      "/EGamma/Run2018C-UL2018_MiniAODv2_NanoAODv9-v1/NANOAOD (No directories available in EOS for this dataset)\n",
      "/EGamma/Run2018D-UL2018_MiniAODv2_NanoAODv9-v1/NANOAOD (No directories available in EOS for this dataset)\n"
     ]
    }
   ],
   "source": [
    "from Datasets import *\n",
    "listDatasets()"
   ]
  },
  {
   "cell_type": "markdown",
   "id": "ecf7b796",
   "metadata": {},
   "source": [
    "### Analysis\n",
    "\n",
    "Measurement of exclusive production of lepton pairs rely on two selections:\n",
    "1. Exclusive cuts - leptons are produced exclusively, i.e., no other particles produced during the proton-proton interaction\n",
    "2. Correlation between leptons and protons: Due to energy-momentum conservation, the following equation holds:\n",
    "$ \\xi_\\pm = \\frac{1}{\\sqrt{s}}\\left[ p_{T,\\ell1}\\cdot e^{\\pm\\eta_{\\ell1}} + p_{T,\\ell2}\\cdot e^{\\pm\\eta_{\\ell2}} \\right] $, where $\\xi$ is proton momentum loss, and $\\pm$ sign related to $\\xi$ reconstruction of positive/negative proton.\n",
    "\n",
    "The analysis strategy is to apply selection cuts as in (1) and then plot the difference between $\\xi$ reconstructed from leptons and $\\xi$ measured by PPS. The events where di-lepton kinematics agree with proton kinematics will be candidates for exclusive dilepton production.\n",
    "\n",
    "---\n",
    "Proton content is not available in MC yet, so here we will analyze the data, searching for the correlation between measured $\\xi$ from the proton and the predicted $\\xi$ based on the lepton kinematics. We are using data available on EOS to speed up the analysis. \n",
    "\n",
    "For the example, we will process a small amount of data:"
   ]
  },
  {
   "cell_type": "code",
   "execution_count": 3,
   "id": "195253cf",
   "metadata": {},
   "outputs": [],
   "source": [
    "#Select which datasets to use\n",
    "datasets=[\n",
    "    'Run2018A_DoubleMuon',\n",
    "    'Run2018B_DoubleMuon',\n",
    "    'Run2018C_DoubleMuon',\n",
    "    'Run2018D_DoubleMuon',\n",
    "]"
   ]
  },
  {
   "cell_type": "code",
   "execution_count": 4,
   "id": "86b3892c",
   "metadata": {},
   "outputs": [
    {
     "name": "stdout",
     "output_type": "stream",
     "text": [
      "found 93 files\n"
     ]
    }
   ],
   "source": [
    "#Create a list of files to analyze\n",
    "for ds in datasets:\n",
    "    listFiles=getFilesForDataset(ds)\n",
    "files = ROOT.std.vector(\"string\")(len(listFiles))\n",
    "for i,f in enumerate(listFiles):\n",
    "    files[i]=f  \n",
    "print('found %d files'%len(files))"
   ]
  },
  {
   "cell_type": "markdown",
   "id": "1ade8351",
   "metadata": {},
   "source": [
    "To read the data we will use [RDataFrame](https://root.cern.ch/doc/master/group__tutorial__dataframe.html) interface to work with nanoAOD trees."
   ]
  },
  {
   "cell_type": "code",
   "execution_count": 5,
   "id": "d4cc28d1",
   "metadata": {},
   "outputs": [],
   "source": [
    "df = ROOT.RDataFrame(\"Events\",files)"
   ]
  },
  {
   "cell_type": "code",
   "execution_count": 6,
   "id": "cbe7ed35",
   "metadata": {},
   "outputs": [
    {
     "name": "stdout",
     "output_type": "stream",
     "text": [
      "168417224 entries in the dataframe\n"
     ]
    },
    {
     "name": "stderr",
     "output_type": "stream",
     "text": [
      "Warning in <TClass::Init>: no dictionary for class edm::Hash<1> is available\n",
      "Warning in <TClass::Init>: no dictionary for class edm::ParameterSetBlob is available\n",
      "Warning in <TClass::Init>: no dictionary for class edm::ProcessHistory is available\n",
      "Warning in <TClass::Init>: no dictionary for class edm::ProcessConfiguration is available\n",
      "Warning in <TClass::Init>: no dictionary for class __pair_base<edm::Hash<1>,edm::ParameterSetBlob> is available\n",
      "Warning in <TClass::Init>: no dictionary for class pair<edm::Hash<1>,edm::ParameterSetBlob> is available\n"
     ]
    }
   ],
   "source": [
    "#print number of events in the dataframe:\n",
    "nentries=df.Count()\n",
    "print(\"%s entries in the dataframe\" %nentries.GetValue())"
   ]
  },
  {
   "cell_type": "markdown",
   "id": "675183a9",
   "metadata": {},
   "source": [
    "# 1. Exclusive cuts\n",
    "\n",
    "## Event selection\n",
    "\n",
    "We will skim the dataframe following event selection of the search for exclusive production of muon pairs ([JHEP07(2018)153](https://arxiv.org/abs/1803.04496))\n",
    "\n",
    "The following cells contain two selection codes:\n",
    "1. Preselection: which are contain selection cuts that are usually not used for the optimization\n",
    "2. Selection cuts: These cuts are optimized and are dependent on the preselection cuts."
   ]
  },
  {
   "cell_type": "code",
   "execution_count": 7,
   "id": "1393724d",
   "metadata": {},
   "outputs": [],
   "source": [
    "def preselect_dimuon(df):\n",
    "    \n",
    "    #trigger requirement\n",
    "    trigger_bits='HLT_IsoMu24'\n",
    "\n",
    "#    trigger_bits='HLT_Mu17_TrkIsoVVL_Mu8_TrkIsoVVL_DZ_Mass8'\n",
    "    df = df.Filter(trigger_bits,'Trigger')\n",
    "    \n",
    "    #muon selection\n",
    "    good_mu  = 'Muon_pt>30 && abs(Muon_eta)<2.1' #kinematics\n",
    "    good_mu += '&& Muon_tightId>0 && abs(Muon_pfRelIso04_all)<0.15' #identification + isolation\n",
    "#    good_mu += '&& Muon_sip3d<4 && abs(Muon_dxy)<0.5 && abs(Muon_dz)<1.0' #vertex association\n",
    "    df = df.Define('good_mu',good_mu).Filter('Sum(good_mu)==2','Two good muons')\n",
    "    \n",
    "    #save the good-muon related varialbes\n",
    "    for attr in ['pt','eta','phi','charge','mass']:\n",
    "        df=df.Define('good_mu_{}'.format(attr),'Muon_{}[good_mu]'.format(attr))\n",
    "#    df = df.Define(\"Acoplanarity\", \"abs(acos(cos(good_mu_phi[0]-good_mu_phi[1])))\")\n",
    "#    df = df.Define(\"mll\", \"InvariantMass(good_mu_pt, good_mu_eta, good_mu_phi, good_mu_mass)\")\n",
    "   \n",
    "    return df\n",
    "\n",
    "def select_dimuon(df):\n",
    "    \n",
    "    #charge muon1 != charge muon 2\n",
    "    df = df.Filter('good_mu_charge[0]!=good_mu_charge[1]','OS Muons')\n",
    "    \n",
    "    # Acoplanarity cut (back-to-back muons)\n",
    "    df = df.Filter('(1-abs(acos(cos(good_mu_phi[0]-good_mu_phi[1])))/M_PI)<0.009','Acoplanarity')\n",
    "    \n",
    "    # Mass cut\n",
    "    df = df.Filter('InvariantMass(good_mu_pt, good_mu_eta, good_mu_phi, good_mu_mass)>110','mll cut')\n",
    "    \n",
    "    # Track selection\n",
    "    df = df.Filter('nIsoTrack==0','no extra tracks')\n",
    "       \n",
    "    return df"
   ]
  },
  {
   "cell_type": "code",
   "execution_count": 8,
   "id": "7cc67456",
   "metadata": {},
   "outputs": [],
   "source": [
    "#preselection cuts:\n",
    "df_dimu_presel = preselect_dimuon(df)"
   ]
  },
  {
   "cell_type": "code",
   "execution_count": 9,
   "id": "12790629",
   "metadata": {},
   "outputs": [
    {
     "name": "stdout",
     "output_type": "stream",
     "text": [
      "Trigger   : pass=34774621   all=168417224  -- eff=20.65 % cumulative eff=20.65 %\n",
      "Two good muons: pass=14096842   all=34774621   -- eff=40.54 % cumulative eff=8.37 %\n"
     ]
    }
   ],
   "source": [
    "# Request cut-flow report\n",
    "report = df_dimu_presel.Report()\n",
    "report.Print()"
   ]
  },
  {
   "cell_type": "markdown",
   "id": "94a6544a",
   "metadata": {},
   "source": [
    "## Pre-selection plots\n",
    "\n",
    "Before applying analysis cuts here are a few distributions we obtaind from the data:\n",
    "\n",
    "### acoplanarity\n",
    "\n",
    "Defined as $A = 1 - |\\phi_{\\ell,1}-\\phi_{\\ell,2}|/\\pi=1-|\\Delta\\phi_{\\ell\\ell}|/\\pi$. In exclusive production, both leptons should be back top back in the absence of other particles due to momentum conservation, then $A\\sim0$"
   ]
  },
  {
   "cell_type": "code",
   "execution_count": 10,
   "id": "37490ce0",
   "metadata": {},
   "outputs": [],
   "source": [
    "df_dimu_presel_acopl = df_dimu_presel.Define(\"Acoplanarity\", \"1-abs(acos(cos(good_mu_phi[0]-good_mu_phi[1])))/M_PI\")"
   ]
  },
  {
   "cell_type": "code",
   "execution_count": 11,
   "id": "a3bc369b",
   "metadata": {},
   "outputs": [],
   "source": [
    "# make histograms\n",
    "h_acopl = df_dimu_presel_acopl.Histo1D((\"Acoplanarity\", \";Acoplanarity [rad];N_{Events}\", 50, 0, 1), \"Acoplanarity\")"
   ]
  },
  {
   "cell_type": "code",
   "execution_count": 12,
   "id": "3f4ae1ed",
   "metadata": {},
   "outputs": [
    {
     "name": "stderr",
     "output_type": "stream",
     "text": [
      "Info in <TCanvas::Print>: pdf file dimuon_acoplanarity.pdf has been created\n"
     ]
    },
    {
     "data": {
      "image/png": "[encoded data removed]",
      "text/plain": [
       "<IPython.core.display.Image object>"
      ]
     },
     "metadata": {},
     "output_type": "display_data"
    }
   ],
   "source": [
    "# Produce plots\n",
    "from Helpers import *\n",
    "c=PlotMe(h_acopl)\n",
    "c.Draw()\n",
    "c.SaveAs(\"dimuon_acoplanarity.pdf\")"
   ]
  },
  {
   "cell_type": "markdown",
   "id": "2e0d7aa5",
   "metadata": {},
   "source": [
    "### invariant mass\n",
    "\n",
    "The measurement is performed above the Z mass peak. Invariant mass computed from the two good muons can be obtained using the [ROOT::VecOps::InvariantMass()](https://root.cern/doc/master/group__vecops.html#ga2c531eae910edad48bbf7319cc6d7e58) function"
   ]
  },
  {
   "cell_type": "code",
   "execution_count": 13,
   "id": "1f94b120",
   "metadata": {},
   "outputs": [],
   "source": [
    "df_dimu_presel_mass = df_dimu_presel.Define(\"mll\", \"InvariantMass(good_mu_pt, good_mu_eta, good_mu_phi, good_mu_mass)\")\n",
    "h_mll = df_dimu_presel_mass.Histo1D((\"Dimuon_mass\", \";m_{#mu#mu} [GeV];N_{Events}\", 75, 50, 300), \"mll\")"
   ]
  },
  {
   "cell_type": "code",
   "execution_count": 14,
   "id": "61e890b1",
   "metadata": {},
   "outputs": [
    {
     "name": "stderr",
     "output_type": "stream",
     "text": [
      "Warning in <TCanvas::Constructor>: Deleting canvas with same name: c\n",
      "Info in <TCanvas::Print>: pdf file dimuon_spectrum.pdf has been created\n"
     ]
    },
    {
     "data": {
      "image/png": "[encoded data removed]",
      "text/plain": [
       "<IPython.core.display.Image object>"
      ]
     },
     "metadata": {},
     "output_type": "display_data"
    }
   ],
   "source": [
    "# Produce plots\n",
    "c=PlotMe(h_mll)\n",
    "c.Draw()\n",
    "c.SaveAs(\"dimuon_spectrum.pdf\")"
   ]
  },
  {
   "cell_type": "markdown",
   "id": "83263610",
   "metadata": {},
   "source": [
    "# Final event selection\n",
    "\n",
    "Based on analysis of signal and background distributions obtained in the previous step, final analysis cuts are selected and applied to the dataset"
   ]
  },
  {
   "cell_type": "code",
   "execution_count": 15,
   "id": "e9c2a147",
   "metadata": {},
   "outputs": [],
   "source": [
    "#event selection:\n",
    "df_dimu_sel = select_dimuon(df_dimu_presel)"
   ]
  },
  {
   "cell_type": "code",
   "execution_count": 16,
   "id": "4957ae3a",
   "metadata": {},
   "outputs": [
    {
     "name": "stdout",
     "output_type": "stream",
     "text": [
      "Trigger   : pass=34774621   all=168417224  -- eff=20.65 % cumulative eff=20.65 %\n",
      "Two good muons: pass=14096842   all=34774621   -- eff=40.54 % cumulative eff=8.37 %\n",
      "OS Muons  : pass=14092669   all=14096842   -- eff=99.97 % cumulative eff=8.37 %\n",
      "Acoplanarity: pass=1560398    all=14092669   -- eff=11.07 % cumulative eff=0.93 %\n",
      "mll cut   : pass=51818      all=1560398    -- eff=3.32 % cumulative eff=0.03 %\n",
      "no extra tracks: pass=34422      all=51818      -- eff=66.43 % cumulative eff=0.02 %\n"
     ]
    }
   ],
   "source": [
    "# Request cut-flow report\n",
    "report = df_dimu_sel.Report()\n",
    "report.Print()"
   ]
  },
  {
   "cell_type": "markdown",
   "id": "dbc6a6a7",
   "metadata": {},
   "source": [
    "## Snapshot (saving reduced ntuples for further analysis)\n",
    "\n",
    "In order to proceed with the analysis, we will skim/slim the sample and store the smaller sub-sample in our local EOS space.\n",
    "- skimming: selecting sub-sample of events that pass all filters\n",
    "- slimming: keeping only relevant brunches (columns)\n",
    "\n",
    "This is done using the [Snapshot()](https://root.cern/doc/master/df007__snapshot_8py.html) function\n",
    "\n",
    "---\n",
    "For now, it is recommended to save snapshots for a single file rather than the full dataframe (it takes too long)"
   ]
  },
  {
   "cell_type": "code",
   "execution_count": 18,
   "id": "ae31d5f6",
   "metadata": {},
   "outputs": [],
   "source": [
    "#using regular expression to define needed columns:\n",
    "branchList='('\n",
    "branchList+='^.*good_mu_.*$|'\n",
    "branchList+='^nProton_multiRP$|'\n",
    "branchList+='^.*Proton_multiRP_.*$'\n",
    "branchList+=')'"
   ]
  },
  {
   "cell_type": "code",
   "execution_count": null,
   "id": "002d3b38",
   "metadata": {},
   "outputs": [],
   "source": [
    "#save the snapshot\n",
    "import time\n",
    "PATH='.'\n",
    "tic=time.time()\n",
    "df_dimu_sel.Snapshot('Events',PATH+'/df_dimu_sel.root',branchList)\n",
    "print('Creating the snapshot took %2.2f sec' % ((time.time()-tic)))"
   ]
  },
  {
   "cell_type": "code",
   "execution_count": null,
   "id": "0e3e99e9",
   "metadata": {
    "scrolled": true
   },
   "outputs": [],
   "source": [
    "#check the new filesize:\n",
    "print('output filesize = %s'%(PrintFileSize(os.path.getsize(PATH+'/df_dimu_sel.root')) ))"
   ]
  },
  {
   "cell_type": "code",
   "execution_count": null,
   "id": "77456333",
   "metadata": {},
   "outputs": [],
   "source": [
    "#check the file content:\n",
    "f1 = ROOT.TFile(PATH+'/df_dimu_sel.root')\n",
    "t = f1.Events\n",
    "print(\"These are the columns:\")\n",
    "for branch in t.GetListOfBranches():\n",
    "    print(\"Branch: %s\" %branch.GetName())\n",
    "f1.Close()"
   ]
  },
  {
   "cell_type": "markdown",
   "id": "f5b2c6f0",
   "metadata": {},
   "source": [
    "### Next time you start - start from here\n",
    "\n",
    "import relevant modules, and load the snapshot for future studies"
   ]
  },
  {
   "cell_type": "code",
   "execution_count": 22,
   "id": "cafda048",
   "metadata": {},
   "outputs": [],
   "source": [
    "#import ROOT\n",
    "#ROOT.ROOT.EnableImplicitMT()\n",
    "#ROOT.gInterpreter.Declare('#include \"SelectorTools.h\"')\n",
    "#from Datasets import *\n",
    "#from Helpers import *\n",
    "\n",
    "PATH='.'\n",
    "df_dimu_sel = ROOT.RDataFrame(\"Events\",PATH+'/df_dimu_sel.root')"
   ]
  },
  {
   "cell_type": "markdown",
   "id": "524cdfff",
   "metadata": {},
   "source": [
    "# 2. Correlation between leptons and protons\n",
    "\n",
    "## Tagged protons selection\n",
    "\n",
    "Once events with exclusive signature have been selected, correlation between the proton kimenatics and lepton kinematics is tested. In exclusive production where leptons and protons have the same origin, full correlation will be observed.\n",
    "\n",
    "Before starting with the analysis, we will select events with good tagged protons and central event kinematics (di-$\\ell$) which predict a proton within the acceptance of the PPS.\n",
    "\n",
    "### PPS acceptance:\n",
    "\n",
    "We will extract the acceptance of PPS detectors"
   ]
  },
  {
   "cell_type": "code",
   "execution_count": 23,
   "id": "eadc6794",
   "metadata": {},
   "outputs": [],
   "source": [
    "def select_proton_pos(df):\n",
    "    \n",
    "    #recontruct xi from di-lepton\n",
    "    df = df.Define(\"xi0_ll\", \"Sum(good_mu_pt*exp(+good_mu_eta))/13000.\")\n",
    "    \n",
    "    #proton selection\n",
    "    df = df.Define('xi_pr0','SelectProtonXi(Proton_multiRP_xi,Proton_multiRP_arm,xi0_ll,0)').Filter('xi_pr0>0','proton in the positive arm') # proton in positive direction (+z)\n",
    "    \n",
    "    return df\n",
    "\n",
    "def select_proton_neg(df):\n",
    "    \n",
    "    #recontruct xi from di-lepton\n",
    "    df = df.Define(\"xi1_ll\", \"Sum(good_mu_pt*exp(-good_mu_eta))/13000.\")\n",
    "\n",
    "    #proton selection\n",
    "    df = df.Define('xi_pr1','SelectProtonXi(Proton_multiRP_xi,Proton_multiRP_arm,xi1_ll,1)').Filter('xi_pr1>0','proton in the negative arm') # proton in negative direction (-z)\n",
    "    \n",
    "    return df"
   ]
  },
  {
   "cell_type": "code",
   "execution_count": 24,
   "id": "0f6b1129",
   "metadata": {},
   "outputs": [
    {
     "name": "stdout",
     "output_type": "stream",
     "text": [
      "Positive arm acceptance:0.0184326171875 <= xi <= 0.2498779296875\n"
     ]
    }
   ],
   "source": [
    "df_dimu_sel_pro0 = select_proton_pos(df_dimu_sel)\n",
    "\n",
    "minVal0 = df_dimu_sel_pro0.Min('xi_pr0')\n",
    "maxVal0 = df_dimu_sel_pro0.Max('xi_pr0')\n",
    "print(\"Positive arm acceptance:%s <= xi <= %s\" %(minVal0.GetValue(), maxVal0.GetValue()))\n",
    " "
   ]
  },
  {
   "cell_type": "code",
   "execution_count": 25,
   "id": "c80b4652",
   "metadata": {},
   "outputs": [],
   "source": [
    "#filter events with reconstructed xi from di-lep is outside PPS acceptance\n",
    "#df_dimu_sel_pro0_withll = df_dimu_sel_pro0.Filter('xi0_ll>%s && xi0_ll<%s'%(minVal0.GetValue(), maxVal0.GetValue()),'dilep predict a proton in +z')\n",
    "df_dimu_sel_pro0_withll = df_dimu_sel_pro0.Filter('xi0_ll>%s && xi0_ll<%s'%(0.04, maxVal0.GetValue()),'dilep predict a proton in +z')"
   ]
  },
  {
   "cell_type": "code",
   "execution_count": 26,
   "id": "1dabb108",
   "metadata": {},
   "outputs": [
    {
     "name": "stdout",
     "output_type": "stream",
     "text": [
      "proton in the positive arm: pass=6282325    all=14096842   -- eff=44.57 % cumulative eff=44.57 %\n",
      "dilep predict a proton in +z: pass=222309     all=6282325    -- eff=3.54 % cumulative eff=1.58 %\n"
     ]
    }
   ],
   "source": [
    "report = df_dimu_sel_pro0_withll.Report()\n",
    "report.Print()"
   ]
  },
  {
   "cell_type": "code",
   "execution_count": 27,
   "id": "e75f476c",
   "metadata": {},
   "outputs": [
    {
     "name": "stdout",
     "output_type": "stream",
     "text": [
      "Negative arm acceptance:0.01998138427734375 <= xi <= 0.30413818359375\n"
     ]
    }
   ],
   "source": [
    "df_dimu_sel_pro1 = select_proton_neg(df_dimu_sel)\n",
    "\n",
    "minVal1 = df_dimu_sel_pro1.Min('xi_pr1')\n",
    "maxVal1 = df_dimu_sel_pro1.Max('xi_pr1')\n",
    "print(\"Negative arm acceptance:%s <= xi <= %s\" %(minVal1.GetValue(), maxVal1.GetValue()))\n",
    " "
   ]
  },
  {
   "cell_type": "code",
   "execution_count": 28,
   "id": "73e07697",
   "metadata": {},
   "outputs": [],
   "source": [
    "#filter events with reconstructed xi from di-lep is outside PPS acceptance\n",
    "#df_dimu_sel_pro1_withll = df_dimu_sel_pro1.Filter('xi1_ll>%s && xi1_ll<%s'%(minVal1.GetValue(), maxVal1.GetValue()),'dilep predict a proton in -z')\n",
    "df_dimu_sel_pro1_withll = df_dimu_sel_pro1.Filter('xi1_ll>%s && xi1_ll<%s'%(0.04, maxVal1.GetValue()),'dilep predict a proton in -z')"
   ]
  },
  {
   "cell_type": "code",
   "execution_count": 29,
   "id": "062a023b",
   "metadata": {},
   "outputs": [
    {
     "name": "stdout",
     "output_type": "stream",
     "text": [
      "proton in the negative arm: pass=6489013    all=14096842   -- eff=46.03 % cumulative eff=46.03 %\n",
      "dilep predict a proton in -z: pass=226234     all=6489013    -- eff=3.49 % cumulative eff=1.60 %\n"
     ]
    }
   ],
   "source": [
    "report = df_dimu_sel_pro1_withll.Report()\n",
    "report.Print()"
   ]
  },
  {
   "cell_type": "markdown",
   "id": "b885959d",
   "metadata": {},
   "source": [
    "Once the PPS acceptance is extracted, and we selected events where two-lepton kinematics suggest a proton within the PPS detector, we can inspect correlations."
   ]
  },
  {
   "cell_type": "code",
   "execution_count": 30,
   "id": "0d4ba0a3",
   "metadata": {},
   "outputs": [],
   "source": [
    "df_dimu_sel_pro0_withll_delXi = df_dimu_sel_pro0_withll.Define('DelXi','xi0_ll-xi_pr0')\n",
    "h_xi0 = df_dimu_sel_pro0_withll_delXi.Histo1D((\"Delta_xi0\", \";#xi_{ll}-#xi_{p+};N_{Events}\", 100, -0.1, 0.1), \"DelXi\")"
   ]
  },
  {
   "cell_type": "code",
   "execution_count": 31,
   "id": "f98d9c9f",
   "metadata": {},
   "outputs": [
    {
     "name": "stderr",
     "output_type": "stream",
     "text": [
      "Warning in <TCanvas::Constructor>: Deleting canvas with same name: c\n",
      "Info in <TCanvas::Print>: pdf file correlation_positive_arm.pdf has been created\n"
     ]
    },
    {
     "data": {
      "image/png": "[encoded data removed]",
      "text/plain": [
       "<IPython.core.display.Image object>"
      ]
     },
     "metadata": {},
     "output_type": "display_data"
    }
   ],
   "source": [
    "# Produce plots\n",
    "c=PlotMe(h_xi0)\n",
    "c.Draw()\n",
    "c.SaveAs(\"correlation_positive_arm.pdf\")"
   ]
  },
  {
   "cell_type": "code",
   "execution_count": 32,
   "id": "16a71db0",
   "metadata": {},
   "outputs": [],
   "source": [
    "df_dimu_sel_pro1_withll_delXi = df_dimu_sel_pro1_withll.Define('DelXi','xi1_ll-xi_pr1')\n",
    "h_xi1 = df_dimu_sel_pro1_withll_delXi.Histo1D((\"Delta_xi1\", \";#xi_{ll}-#xi_{p-};N_{Events}\", 100, -0.1, 0.1), \"DelXi\")"
   ]
  },
  {
   "cell_type": "code",
   "execution_count": 33,
   "id": "6ea4d91c",
   "metadata": {},
   "outputs": [
    {
     "name": "stderr",
     "output_type": "stream",
     "text": [
      "Warning in <TCanvas::Constructor>: Deleting canvas with same name: c\n",
      "Info in <TCanvas::Print>: pdf file correlation_negative_arm.pdf has been created\n"
     ]
    },
    {
     "data": {
      "image/png": "[encoded data removed]",
      "text/plain": [
       "<IPython.core.display.Image object>"
      ]
     },
     "metadata": {},
     "output_type": "display_data"
    }
   ],
   "source": [
    " # Produce plots\n",
    "c=PlotMe(h_xi1)\n",
    "c.Draw()\n",
    "c.SaveAs(\"correlation_negative_arm.pdf\")"
   ]
  },
  {
   "cell_type": "code",
   "execution_count": 34,
   "id": "e93a412d",
   "metadata": {},
   "outputs": [],
   "source": [
    "h_xi1_2D = df_dimu_sel_pro1_withll.Histo2D((\"negXi_2D\", \";#xi_{ll};#xi_{pp}\", 64, 0., 0.2, 32, 0., 0.2), \"xi1_ll\", \"xi_pr1\");"
   ]
  },
  {
   "cell_type": "code",
   "execution_count": 35,
   "id": "a46133db",
   "metadata": {},
   "outputs": [
    {
     "name": "stderr",
     "output_type": "stream",
     "text": [
      "Warning in <TCanvas::Constructor>: Deleting canvas with same name: c\n",
      "Info in <TCanvas::Print>: pdf file correlation_negative_arm_2D.pdf has been created\n"
     ]
    },
    {
     "data": {
      "image/png": "[encoded data removed]",
      "text/plain": [
       "<IPython.core.display.Image object>"
      ]
     },
     "metadata": {},
     "output_type": "display_data"
    }
   ],
   "source": [
    " # Produce plots\n",
    "c=PlotMe(h_xi1_2D,'colz')\n",
    "c.Draw('colz') \n",
    "line=ROOT.TF1('line','x',0,0.2)\n",
    "line.SetLineWidth(3); line.Draw('sames')\n",
    "c.SaveAs(\"correlation_negative_arm_2D.pdf\")"
   ]
  },
  {
   "cell_type": "code",
   "execution_count": null,
   "id": "a58bfaa9",
   "metadata": {},
   "outputs": [],
   "source": []
  }
 ],
 "metadata": {
  "kernelspec": {
   "display_name": "Python 3",
   "language": "python",
   "name": "python3"
  },
  "language_info": {
   "codemirror_mode": {
    "name": "ipython",
    "version": 3
   },
   "file_extension": ".py",
   "mimetype": "text/x-python",
   "name": "python",
   "nbconvert_exporter": "python",
   "pygments_lexer": "ipython3",
   "version": "3.8.6"
  }
 },
 "nbformat": 4,
 "nbformat_minor": 5
}
