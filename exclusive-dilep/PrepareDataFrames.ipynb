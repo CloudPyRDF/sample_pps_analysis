{
 "cells": [
  {
   "cell_type": "markdown",
   "id": "4a053881",
   "metadata": {},
   "source": [
    "# Di-lepton analysis\n",
    "\n",
    "### Introduction\n",
    "\n",
    "This notebook is used to process the data stored in [NANOAOD](https://twiki.cern.ch/twiki/bin/view/CMSPublic/WorkBookNanoAOD) format, and select candidate events of exclusive dilepton production, $pp\\to p\\oplus\\ell\\ell\\oplus p$, with $\\ell\\in\\{ e,\\mu,\\tau \\} $. Feynman diagram of this process is shown bellow: \n",
    "\n",
    "<img src=\"img/diagrams.png\" alt=\"Feynman diagrams\" width=\"800\">\n",
    "\n"
   ]
  },
  {
   "cell_type": "markdown",
   "id": "a6209da4",
   "metadata": {},
   "source": [
    "This notebook was prepared based on the [df102_NanoAODDimuonAnalysis.py](https://root.cern.ch/doc/master/group__tutorial__dataframe.html) example from ROOT."
   ]
  },
  {
   "cell_type": "code",
   "execution_count": 1,
   "id": "988c84cf",
   "metadata": {},
   "outputs": [
    {
     "name": "stdout",
     "output_type": "stream",
     "text": [
      "Welcome to JupyROOT 6.24/05\n"
     ]
    },
    {
     "data": {
      "text/plain": [
       "True"
      ]
     },
     "execution_count": 1,
     "metadata": {},
     "output_type": "execute_result"
    }
   ],
   "source": [
    "import ROOT\n",
    " \n",
    "# Enable multi-threading\n",
    "ROOT.ROOT.EnableImplicitMT()\n",
    "\n",
    "#include auxiliary functions from C++ header\n",
    "ROOT.gInterpreter.Declare('#include \"SelectorTools.h\"')"
   ]
  },
  {
   "cell_type": "code",
   "execution_count": null,
   "id": "97ff54a0",
   "metadata": {},
   "outputs": [],
   "source": [
    "./init.sh"
   ]
  },
  {
   "cell_type": "code",
   "execution_count": null,
   "id": "ffa1841e",
   "metadata": {},
   "outputs": [],
   "source": [
    "AWS_CREDENTIALS > ~/.aws/credentials"
   ]
  },
  {
   "cell_type": "markdown",
   "id": "15a242d0",
   "metadata": {},
   "source": [
    "### Datasets\n",
    "`Datasets.py` contains the list of datasets that can be used in the analysis. The `listDatasets()` command will print out the complete list of datasets and also information about samples availability on EOS. "
   ]
  },
  {
   "cell_type": "code",
   "execution_count": 2,
   "id": "79546d8c",
   "metadata": {
    "scrolled": false
   },
   "outputs": [
    {
     "name": "stdout",
     "output_type": "stream",
     "text": [
      "The following datasets are available:\n",
      "/DYJetsToLL_M-50_TuneCP5_13TeV-amcatnloFXFX-pythia8/RunIISummer20UL18NanoAODv9-Pilot_106X_upgrade2018_realistic_v15_L1v1-v2/NANOAODSIM (No directories available in EOS for this dataset)\n",
      "/DYToMuMu_pomflux_Pt-30_TuneCP5_13TeV-pythia8/RunIISummer20UL18NanoAODv9-106X_upgrade2018_realistic_v16_L1v1-v1/NANOAODSIM (No directories available in EOS for this dataset)\n",
      "/SingleMuon/Run2017A-UL2017_MiniAODv2_NanoAODv9-v1/NANOAOD (No directories available in EOS for this dataset)\n",
      "/SingleMuon/Run2017B-UL2017_MiniAODv2_NanoAODv9-v1/NANOAOD (No directories available in EOS for this dataset)\n",
      "/SingleMuon/Run2017C-UL2017_MiniAODv2_NanoAODv9-v1/NANOAOD (No directories available in EOS for this dataset)\n",
      "/SingleMuon/Run2017D-UL2017_MiniAODv2_NanoAODv9-v1/NANOAOD (No directories available in EOS for this dataset)\n",
      "/SingleMuon/Run2017E-UL2017_MiniAODv2_NanoAODv9-v1/NANOAOD (No directories available in EOS for this dataset)\n",
      "/SingleMuon/Run2017F-UL2017_MiniAODv2_NanoAODv9-v1/NANOAOD (No directories available in EOS for this dataset)\n",
      "/DoubleMuon/Run2017A-UL2017_MiniAODv2_NanoAODv9-v1/NANOAOD (No directories available in EOS for this dataset)\n",
      "/DoubleMuon/Run2017B-UL2017_MiniAODv2_NanoAODv9-v1/NANOAOD (No directories available in EOS for this dataset)\n",
      "/DoubleMuon/Run2017C-UL2017_MiniAODv2_NanoAODv9-v1/NANOAOD (No directories available in EOS for this dataset)\n",
      "/DoubleMuon/Run2017D-UL2017_MiniAODv2_NanoAODv9-v1/NANOAOD (No directories available in EOS for this dataset)\n",
      "/DoubleMuon/Run2017E-UL2017_MiniAODv2_NanoAODv9-v1/NANOAOD (No directories available in EOS for this dataset)\n",
      "/DoubleMuon/Run2017F-UL2017_MiniAODv2_NanoAODv9-v1/NANOAOD (No directories available in EOS for this dataset)\n",
      "/SingleElectron/Run2017A-UL2017_MiniAODv2_NanoAODv9-v1/NANOAOD (No directories available in EOS for this dataset)\n",
      "/SingleElectron/Run2017B-UL2017_MiniAODv2_NanoAODv9-v1/NANOAOD (No directories available in EOS for this dataset)\n",
      "/SingleElectron/Run2017C-UL2017_MiniAODv2_NanoAODv9-v1/NANOAOD (No directories available in EOS for this dataset)\n",
      "/SingleElectron/Run2017D-UL2017_MiniAODv2_NanoAODv9-v1/NANOAOD (No directories available in EOS for this dataset)\n",
      "/SingleElectron/Run2017E-UL2017_MiniAODv2_NanoAODv9-v1/NANOAOD (No directories available in EOS for this dataset)\n",
      "/SingleElectron/Run2017F-UL2017_MiniAODv2_NanoAODv9-v1/NANOAOD (No directories available in EOS for this dataset)\n",
      "/SingleMuon/Run2018A-UL2018_MiniAODv2_NanoAODv9-v1/NANOAOD (No directories available in EOS for this dataset)\n",
      "/SingleMuon/Run2018B-UL2018_MiniAODv2_NanoAODv9-v1/NANOAOD (No directories available in EOS for this dataset)\n",
      "/SingleMuon/Run2018C-UL2018_MiniAODv2_NanoAODv9-v1/NANOAOD (No directories available in EOS for this dataset)\n",
      "/SingleMuon/Run2018D-UL2018_MiniAODv2_NanoAODv9-v1/NANOAOD (No directories available in EOS for this dataset)\n",
      "/DoubleMuon/Run2018A-UL2018_MiniAODv2_NanoAODv9-v1/NANOAOD (No directories available in EOS for this dataset)\n",
      "/DoubleMuon/Run2018B-UL2018_MiniAODv2_NanoAODv9-v1/NANOAOD (No directories available in EOS for this dataset)\n",
      "/DoubleMuon/Run2018C-UL2018_MiniAODv2_NanoAODv9-v1/NANOAOD (No directories available in EOS for this dataset)\n",
      "/DoubleMuon/Run2018D-UL2018_MiniAODv2_NanoAODv9-v1/NANOAOD (No directories available in EOS for this dataset)\n",
      "/EGamma/Run2018A-UL2018_MiniAODv2_NanoAODv9-v1/NANOAOD (No directories available in EOS for this dataset)\n",
      "/EGamma/Run2018B-UL2018_MiniAODv2_NanoAODv9-v1/NANOAOD (No directories available in EOS for this dataset)\n",
      "/EGamma/Run2018C-UL2018_MiniAODv2_NanoAODv9-v1/NANOAOD (No directories available in EOS for this dataset)\n",
      "/EGamma/Run2018D-UL2018_MiniAODv2_NanoAODv9-v1/NANOAOD (No directories available in EOS for this dataset)\n"
     ]
    }
   ],
   "source": [
    "from Datasets import *\n",
    "listDatasets()"
   ]
  },
  {
   "cell_type": "markdown",
   "id": "ecf7b796",
   "metadata": {},
   "source": [
    "### Analysis\n",
    "\n",
    "Measurement of exclusive production of lepton pairs rely on two selections:\n",
    "1. Exclusive cuts - leptons are produced exclusively, i.e., no other particles produced during the proton-proton interaction\n",
    "2. Correlation between leptons and protons: Due to energy-momentum conservation, the following equation holds:\n",
    "$ \\xi_\\pm = \\frac{1}{\\sqrt{s}}\\left[ p_{T,\\ell1}\\cdot e^{\\pm\\eta_{\\ell1}} + p_{T,\\ell2}\\cdot e^{\\pm\\eta_{\\ell2}} \\right] $, where $\\xi$ is proton momentum loss, and $\\pm$ sign related to $\\xi$ reconstruction of positive/negative proton.\n",
    "\n",
    "The analysis strategy is to apply selection cuts as in (1) and then plot the difference between $\\xi$ reconstructed from leptons and $\\xi$ measured by PPS. The events where di-lepton kinematics agree with proton kinematics will be candidates for exclusive dilepton production.\n",
    "\n",
    "---\n",
    "Proton content is not available in MC yet, so here we will analyze the data, searching for the correlation between measured $\\xi$ from the proton and the predicted $\\xi$ based on the lepton kinematics. We are using data available on EOS to speed up the analysis. \n",
    "\n",
    "For the example, we will process a small amount of data:"
   ]
  },
  {
   "cell_type": "code",
   "execution_count": 3,
   "id": "195253cf",
   "metadata": {},
   "outputs": [],
   "source": [
    "#Select which datasets to use\n",
    "datasets=[\n",
    "    'Run2018A_DoubleMuon',\n",
    "    'Run2018B_DoubleMuon',\n",
    "    'Run2018C_DoubleMuon',\n",
    "    'Run2018D_DoubleMuon',\n",
    "]"
   ]
  },
  {
   "cell_type": "code",
   "execution_count": 4,
   "id": "86b3892c",
   "metadata": {},
   "outputs": [
    {
     "name": "stdout",
     "output_type": "stream",
     "text": [
      "found 0 files\n"
     ]
    }
   ],
   "source": [
    "#Create a list of files to analyze\n",
    "for ds in datasets:\n",
    "    listFiles=getFilesForDataset(ds)\n",
    "files = ROOT.std.vector(\"string\")(len(listFiles))\n",
    "for i,f in enumerate(listFiles):\n",
    "    files[i]=f  \n",
    "print('found %d files'%len(files))"
   ]
  },
  {
   "cell_type": "markdown",
   "id": "1ade8351",
   "metadata": {},
   "source": [
    "To read the data we will use [RDataFrame](https://root.cern.ch/doc/master/group__tutorial__dataframe.html) interface to work with nanoAOD trees."
   ]
  },
  {
   "cell_type": "code",
   "execution_count": 6,
   "id": "d4cc28d1",
   "metadata": {},
   "outputs": [],
   "source": [
    "RDataFrame = [...].AWS.RDataFrame\n",
    "\n",
    "df = RDataFrame(\"Events\",files, npartitions=128)"
   ]
  },
  {
   "cell_type": "code",
   "execution_count": 8,
   "id": "cbe7ed35",
   "metadata": {},
   "outputs": [
    {
     "name": "stderr",
     "output_type": "stream",
     "text": [
      "INFO:botocore.credentials:Found credentials in shared credentials file: ~/.aws/credentials\n",
      "INFO:root:Before lambdas invoke. Number of lambdas: 128\n",
      "INFO:root:Lambdas finished: 0\n",
      "INFO:root:Lambdas finished: 0\n",
      "INFO:root:Lambdas finished: 0\n",
      "INFO:root:Lambdas finished: 0\n",
      "INFO:root:Lambdas finished: 0\n",
      "INFO:root:Lambdas finished: 0\n",
      "INFO:root:Lambdas finished: 0\n",
      "INFO:root:Lambdas finished: 0\n",
      "INFO:root:Lambdas finished: 0\n",
      "INFO:root:Lambdas finished: 0\n",
      "INFO:root:Lambdas finished: 0\n",
      "INFO:root:Lambdas finished: 0\n",
      "INFO:root:Lambdas finished: 10\n",
      "INFO:root:Lambdas finished: 34\n",
      "INFO:root:Lambdas finished: 52\n",
      "INFO:root:Lambdas finished: 73\n",
      "INFO:root:Lambdas finished: 93\n",
      "INFO:root:Lambdas finished: 102\n",
      "INFO:root:Lambdas finished: 110\n",
      "INFO:root:Lambdas finished: 117\n",
      "INFO:root:Lambdas finished: 122\n",
      "INFO:root:Lambdas finished: 125\n",
      "INFO:root:Lambdas finished: 126\n",
      "INFO:root:Lambdas finished: 126\n",
      "INFO:root:Lambdas finished: 127\n",
      "INFO:root:Lambdas finished: 127\n",
      "INFO:root:Lambdas finished: 127\n",
      "INFO:root:Lambdas finished: 127\n",
      "INFO:root:Lambdas finished: 127\n",
      "INFO:root:Lambdas finished: 127\n",
      "INFO:root:Lambdas finished: 128\n"
     ]
    },
    {
     "name": "stdout",
     "output_type": "stream",
     "text": [
      "(128, 38.9676570892334, 4.1925671100616455, 2.329078435897827)\n",
      "313532640 entries in the dataframe\n"
     ]
    },
    {
     "name": "stderr",
     "output_type": "stream",
     "text": [
      "Warning in <TClass::Init>: no dictionary for class edm::Hash<1> is available\n",
      "Warning in <TClass::Init>: no dictionary for class edm::ParameterSetBlob is available\n",
      "Warning in <TClass::Init>: no dictionary for class edm::ProcessHistory is available\n",
      "Warning in <TClass::Init>: no dictionary for class edm::ProcessConfiguration is available\n",
      "Warning in <TClass::Init>: no dictionary for class __pair_base<edm::Hash<1>,edm::ParameterSetBlob> is available\n",
      "Warning in <TClass::Init>: no dictionary for class pair<edm::Hash<1>,edm::ParameterSetBlob> is available\n"
     ]
    }
   ],
   "source": [
    "#print number of events in the dataframe:\n",
    "import logging\n",
    "logging.basicConfig(level=logging.INFO)\n",
    "nentries=df.Count()\n",
    "print(\"%s entries in the dataframe\" %nentries.GetValue())"
   ]
  },
  {
   "cell_type": "markdown",
   "id": "675183a9",
   "metadata": {},
   "source": [
    "# 1. Exclusive cuts\n",
    "\n",
    "## Event selection\n",
    "\n",
    "We will skim the dataframe following event selection of the search for exclusive production of muon pairs ([JHEP07(2018)153](https://arxiv.org/abs/1803.04496))\n",
    "\n",
    "The following cells contain two selection codes:\n",
    "1. Preselection: which are contain selection cuts that are usually not used for the optimization\n",
    "2. Selection cuts: These cuts are optimized and are dependent on the preselection cuts."
   ]
  },
  {
   "cell_type": "code",
   "execution_count": 14,
   "id": "1393724d",
   "metadata": {},
   "outputs": [],
   "source": [
    "def preselect_dimuon(df):\n",
    "    \n",
    "    #trigger requirement\n",
    "    trigger_bits='HLT_IsoMu24'\n",
    "\n",
    "#    trigger_bits='HLT_Mu17_TrkIsoVVL_Mu8_TrkIsoVVL_DZ_Mass8'\n",
    "    df = df.Filter(trigger_bits,'Trigger')\n",
    "    \n",
    "    #muon selection\n",
    "    good_mu  = 'Muon_pt>30 && abs(Muon_eta)<2.1' #kinematics\n",
    "    good_mu += '&& Muon_tightId>0 && abs(Muon_pfRelIso04_all)<0.15' #identification + isolation\n",
    "#    good_mu += '&& Muon_sip3d<4 && abs(Muon_dxy)<0.5 && abs(Muon_dz)<1.0' #vertex association\n",
    "    df = df.Define('good_mu',good_mu).Filter('Sum(good_mu)==2','Two good muons')\n",
    "    \n",
    "    #save the good-muon related varialbes\n",
    "    for attr in ['pt','eta','phi','charge','mass']:\n",
    "        df=df.Define('good_mu_{}'.format(attr),'Muon_{}[good_mu]'.format(attr))\n",
    "#    df = df.Define(\"Acoplanarity\", \"abs(acos(cos(good_mu_phi[0]-good_mu_phi[1])))\")\n",
    "#    df = df.Define(\"mll\", \"InvariantMass(good_mu_pt, good_mu_eta, good_mu_phi, good_mu_mass)\")\n",
    "   \n",
    "    return df\n",
    "\n",
    "def select_dimuon(df):\n",
    "    \n",
    "    #charge muon1 != charge muon 2\n",
    "    df = df.Filter('good_mu_charge[0]!=good_mu_charge[1]','OS Muons')\n",
    "    \n",
    "    # Acoplanarity cut (back-to-back muons)\n",
    "    df = df.Define(\"Acoplanarity\", \"1-abs(acos(cos(good_mu_phi[0]-good_mu_phi[1])))/M_PI\")\n",
    "    df = df.Filter('Acoplanarity<0.009','Acoplanarity')\n",
    "    \n",
    "    # Mass cut\n",
    "    df = df.Define(\"mll\", \"InvariantMass(good_mu_pt, good_mu_eta, good_mu_phi, good_mu_mass)\")\n",
    "    df = df.Filter('mll>110','mll cut')\n",
    "    \n",
    "    # Track selection\n",
    "    df = df.Filter('nIsoTrack==0','no extra tracks')\n",
    "       \n",
    "    return df"
   ]
  },
  {
   "cell_type": "code",
   "execution_count": 15,
   "id": "7cc67456",
   "metadata": {},
   "outputs": [],
   "source": [
    "#preselection cuts:\n",
    "df_dimu_presel = preselect_dimuon(df)"
   ]
  },
  {
   "cell_type": "code",
   "execution_count": 16,
   "id": "12790629",
   "metadata": {},
   "outputs": [],
   "source": [
    "# # Request cut-flow report\n",
    "# report = df_dimu_presel.Report()\n",
    "# report.Print()"
   ]
  },
  {
   "cell_type": "markdown",
   "id": "94a6544a",
   "metadata": {},
   "source": [
    "## Pre-selection plots\n",
    "\n",
    "Before applying analysis cuts here are a few distributions we obtaind from the data:\n",
    "\n",
    "### acoplanarity\n",
    "\n",
    "Defined as $A = 1 - |\\phi_{\\ell,1}-\\phi_{\\ell,2}|/\\pi=1-|\\Delta\\phi_{\\ell\\ell}|/\\pi$. In exclusive production, both leptons should be back top back in the absence of other particles due to momentum conservation, then $A\\sim0$"
   ]
  },
  {
   "cell_type": "code",
   "execution_count": 17,
   "id": "37490ce0",
   "metadata": {},
   "outputs": [],
   "source": [
    "df_dimu_presel_acopl = df_dimu_presel.Define(\"Acoplanarity\", \"1-abs(acos(cos(good_mu_phi[0]-good_mu_phi[1])))/M_PI\")"
   ]
  },
  {
   "cell_type": "code",
   "execution_count": 18,
   "id": "a3bc369b",
   "metadata": {},
   "outputs": [],
   "source": [
    "# make histograms\n",
    "h_acopl = df_dimu_presel_acopl.Histo1D((\"Acoplanarity\", \";Acoplanarity [rad];N_{Events}\", 50, 0, 1), \"Acoplanarity\")"
   ]
  },
  {
   "cell_type": "code",
   "execution_count": 19,
   "id": "3f4ae1ed",
   "metadata": {},
   "outputs": [
    {
     "name": "stderr",
     "output_type": "stream",
     "text": [
      "INFO:root:Before lambdas invoke. Number of lambdas: 128\n",
      "INFO:root:Lambdas finished: 0\n",
      "INFO:root:Lambdas finished: 0\n",
      "INFO:root:Lambdas finished: 0\n",
      "INFO:root:Lambdas finished: 0\n",
      "INFO:root:Lambdas finished: 0\n",
      "INFO:root:Lambdas finished: 0\n",
      "INFO:root:Lambdas finished: 0\n",
      "INFO:root:Lambdas finished: 0\n",
      "INFO:root:Lambdas finished: 0\n",
      "INFO:root:Lambdas finished: 0\n",
      "INFO:root:Lambdas finished: 0\n",
      "INFO:root:Lambdas finished: 0\n",
      "INFO:root:Lambdas finished: 0\n",
      "INFO:root:Lambdas finished: 0\n",
      "INFO:root:Lambdas finished: 0\n",
      "INFO:root:Lambdas finished: 0\n",
      "INFO:root:Lambdas finished: 0\n",
      "INFO:root:Lambdas finished: 0\n",
      "INFO:root:Lambdas finished: 0\n",
      "INFO:root:Lambdas finished: 0\n",
      "INFO:root:Lambdas finished: 0\n",
      "INFO:root:Lambdas finished: 0\n",
      "INFO:root:Lambdas finished: 0\n",
      "INFO:root:Lambdas finished: 0\n",
      "INFO:root:Lambdas finished: 0\n",
      "INFO:root:Lambdas finished: 2\n",
      "INFO:root:Lambdas finished: 5\n",
      "INFO:root:Lambdas finished: 12\n",
      "INFO:root:Lambdas finished: 20\n",
      "INFO:root:Lambdas finished: 24\n",
      "INFO:root:Lambdas finished: 33\n",
      "INFO:root:Lambdas finished: 49\n",
      "INFO:root:Lambdas finished: 57\n",
      "INFO:root:Lambdas finished: 65\n",
      "INFO:root:Lambdas finished: 72\n",
      "INFO:root:Lambdas finished: 77\n",
      "INFO:root:Lambdas finished: 82\n",
      "INFO:root:Lambdas finished: 87\n",
      "INFO:root:Lambdas finished: 92\n",
      "INFO:root:Lambdas finished: 98\n",
      "INFO:root:Lambdas finished: 101\n",
      "INFO:root:Lambdas finished: 104\n",
      "INFO:root:Lambdas finished: 104\n",
      "INFO:root:Lambdas finished: 109\n",
      "INFO:root:Lambdas finished: 109\n",
      "INFO:root:Lambdas finished: 111\n",
      "INFO:root:Lambdas finished: 111\n",
      "INFO:root:Lambdas finished: 112\n",
      "INFO:root:Lambdas finished: 113\n",
      "INFO:root:Lambdas finished: 115\n",
      "INFO:root:Lambdas finished: 115\n",
      "INFO:root:Lambdas finished: 116\n",
      "INFO:root:Lambdas finished: 117\n",
      "INFO:root:Lambdas finished: 119\n",
      "INFO:root:Lambdas finished: 120\n",
      "INFO:root:Lambdas finished: 120\n",
      "INFO:root:Lambdas finished: 120\n",
      "INFO:root:Lambdas finished: 120\n",
      "INFO:root:Lambdas finished: 120\n",
      "INFO:root:Lambdas finished: 121\n",
      "INFO:root:Lambdas finished: 121\n",
      "INFO:root:Lambdas finished: 121\n",
      "INFO:root:Lambdas finished: 121\n",
      "INFO:root:Lambdas finished: 121\n",
      "INFO:root:Lambdas finished: 122\n",
      "INFO:root:Lambdas finished: 122\n",
      "INFO:root:Lambdas finished: 123\n",
      "INFO:root:Lambdas finished: 123\n",
      "INFO:root:Lambdas finished: 123\n",
      "INFO:root:Lambdas finished: 123\n",
      "INFO:root:Lambdas finished: 123\n",
      "INFO:root:Lambdas finished: 123\n",
      "INFO:root:Lambdas finished: 123\n",
      "INFO:root:Lambdas finished: 124\n",
      "INFO:root:Lambdas finished: 124\n",
      "INFO:root:Lambdas finished: 126\n",
      "INFO:root:Lambdas finished: 128\n"
     ]
    },
    {
     "name": "stdout",
     "output_type": "stream",
     "text": [
      "(128, 235.4326455593109, 4.926481008529663, 2.2286012172698975)\n"
     ]
    },
    {
     "name": "stderr",
     "output_type": "stream",
     "text": [
      "Info in <TCanvas::Print>: pdf file dimuon_acoplanarity.pdf has been created\n"
     ]
    },
    {
     "data": {
      "image/png": "[encoded data removed]",
      "text/plain": [
       "<IPython.core.display.Image object>"
      ]
     },
     "metadata": {},
     "output_type": "display_data"
    }
   ],
   "source": [
    "# Produce plots\n",
    "from Helpers import *\n",
    "c=PlotMe(h_acopl)\n",
    "c.Draw()\n",
    "c.SaveAs(\"dimuon_acoplanarity.pdf\")"
   ]
  },
  {
   "cell_type": "markdown",
   "id": "2e0d7aa5",
   "metadata": {},
   "source": [
    "### invariant mass\n",
    "\n",
    "The measurement is performed above the Z mass peak. Invariant mass computed from the two good muons can be obtained using the [ROOT::VecOps::InvariantMass()](https://root.cern/doc/master/group__vecops.html#ga2c531eae910edad48bbf7319cc6d7e58) function"
   ]
  },
  {
   "cell_type": "code",
   "execution_count": 14,
   "id": "1f94b120",
   "metadata": {},
   "outputs": [
    {
     "name": "stderr",
     "output_type": "stream",
     "text": [
      "DEBUG:DistRDF.Proxy:Created new Define node\n",
      "DEBUG:DistRDF.Proxy:Created new Histo1D node\n"
     ]
    }
   ],
   "source": [
    "df_dimu_presel_mass = df_dimu_presel.Define(\"mll\", \"InvariantMass(good_mu_pt, good_mu_eta, good_mu_phi, good_mu_mass)\")\n",
    "h_mll = df_dimu_presel_mass.Histo1D((\"Dimuon_mass\", \";m_{#mu#mu} [GeV];N_{Events}\", 75, 50, 300), \"mll\")"
   ]
  },
  {
   "cell_type": "code",
   "execution_count": 15,
   "id": "61e890b1",
   "metadata": {},
   "outputs": [],
   "source": [
    "# Produce plots\n",
    "# c=PlotMe(h_mll)\n",
    "# c.Draw()\n",
    "# c.SaveAs(\"dimuon_spectrum.pdf\")"
   ]
  },
  {
   "cell_type": "markdown",
   "id": "83263610",
   "metadata": {},
   "source": [
    "# Final event selection\n",
    "\n",
    "Based on analysis of signal and background distributions obtained in the previous step, final analysis cuts are selected and applied to the dataset"
   ]
  },
  {
   "cell_type": "code",
   "execution_count": 16,
   "id": "e9c2a147",
   "metadata": {},
   "outputs": [
    {
     "name": "stderr",
     "output_type": "stream",
     "text": [
      "DEBUG:DistRDF.Proxy:Created new Filter node\n",
      "DEBUG:DistRDF.Proxy:Created new Define node\n",
      "DEBUG:DistRDF.Proxy:Created new Filter node\n",
      "DEBUG:DistRDF.Proxy:Created new Define node\n",
      "DEBUG:DistRDF.Proxy:Created new Filter node\n",
      "DEBUG:DistRDF.Proxy:Created new Filter node\n"
     ]
    }
   ],
   "source": [
    "#event selection:\n",
    "df_dimu_sel = select_dimuon(df_dimu_presel)"
   ]
  },
  {
   "cell_type": "code",
   "execution_count": 17,
   "id": "4957ae3a",
   "metadata": {},
   "outputs": [],
   "source": [
    "# # Request cut-flow report\n",
    "# report = df_dimu_sel.Report()\n",
    "# report.Print()"
   ]
  },
  {
   "cell_type": "markdown",
   "id": "dbc6a6a7",
   "metadata": {},
   "source": [
    "## Snapshot (saving reduced ntuples for further analysis)\n",
    "\n",
    "In order to proceed with the analysis, we will skim/slim the sample and store the smaller sub-sample in our local EOS space.\n",
    "- skimming: selecting sub-sample of events that pass all filters\n",
    "- slimming: keeping only relevant brunches (columns)\n",
    "\n",
    "This is done using the [Snapshot()](https://root.cern/doc/master/df007__snapshot_8py.html) function\n",
    "\n",
    "---\n",
    "It might be more convenient to save snapshots for a small dataset, then [hadd](https://root.cern/doc/master/hadd_8cxx.html) the files (otherwise it takes too long)"
   ]
  },
  {
   "cell_type": "code",
   "execution_count": 18,
   "id": "ae31d5f6",
   "metadata": {},
   "outputs": [],
   "source": [
    "#using regular expression to define needed columns:\n",
    "branchList='('\n",
    "branchList+='^mll$|'\n",
    "branchList+='^Acoplanarity$|'\n",
    "branchList+='^.*good_mu_.*$|'\n",
    "branchList+='^nProton_multiRP$|'\n",
    "branchList+='^.*Proton_multiRP_.*$'\n",
    "branchList+=')'"
   ]
  },
  {
   "cell_type": "code",
   "execution_count": null,
   "id": "002d3b38",
   "metadata": {},
   "outputs": [
    {
     "name": "stderr",
     "output_type": "stream",
     "text": [
      "DEBUG:DistRDF.Proxy:Created new Snapshot node\n",
      "DEBUG:DistRDF.Node:Starting computational graph pruning\n",
      "DEBUG:DistRDF.Node:Checking Count node for pruning\n",
      "DEBUG:DistRDF.Node:Count node shouldn't be pruned\n",
      "DEBUG:DistRDF.Node:Checking Filter node for pruning\n",
      "DEBUG:DistRDF.Node:Checking Define node for pruning\n",
      "DEBUG:DistRDF.Node:Checking Filter node for pruning\n",
      "DEBUG:DistRDF.Node:Checking Define node for pruning\n",
      "DEBUG:DistRDF.Node:Checking Define node for pruning\n",
      "DEBUG:DistRDF.Node:Checking Define node for pruning\n",
      "DEBUG:DistRDF.Node:Checking Define node for pruning\n",
      "DEBUG:DistRDF.Node:Checking Define node for pruning\n",
      "DEBUG:DistRDF.Node:Checking Define node for pruning\n",
      "DEBUG:DistRDF.Node:Checking Histo1D node for pruning\n",
      "DEBUG:DistRDF.Node:Histo1D node shouldn't be pruned\n",
      "DEBUG:DistRDF.Node:Define node shouldn't be pruned\n",
      "DEBUG:DistRDF.Node:Checking Define node for pruning\n",
      "DEBUG:DistRDF.Node:Checking Histo1D node for pruning\n",
      "DEBUG:DistRDF.Node:Histo1D node shouldn't be pruned\n",
      "DEBUG:DistRDF.Node:Define node shouldn't be pruned\n",
      "DEBUG:DistRDF.Node:Checking Filter node for pruning\n",
      "DEBUG:DistRDF.Node:Checking Define node for pruning\n",
      "DEBUG:DistRDF.Node:Checking Filter node for pruning\n",
      "DEBUG:DistRDF.Node:Checking Define node for pruning\n",
      "DEBUG:DistRDF.Node:Checking Filter node for pruning\n",
      "DEBUG:DistRDF.Node:Checking Filter node for pruning\n",
      "DEBUG:DistRDF.Node:Checking Snapshot node for pruning\n",
      "DEBUG:DistRDF.Node:Snapshot node shouldn't be pruned\n",
      "DEBUG:DistRDF.Node:Filter node shouldn't be pruned\n",
      "DEBUG:DistRDF.Node:Filter node shouldn't be pruned\n",
      "DEBUG:DistRDF.Node:Define node shouldn't be pruned\n",
      "DEBUG:DistRDF.Node:Filter node shouldn't be pruned\n",
      "DEBUG:DistRDF.Node:Define node shouldn't be pruned\n",
      "DEBUG:DistRDF.Node:Filter node shouldn't be pruned\n",
      "DEBUG:DistRDF.Node:Define node shouldn't be pruned\n",
      "DEBUG:DistRDF.Node:Define node shouldn't be pruned\n",
      "DEBUG:DistRDF.Node:Define node shouldn't be pruned\n",
      "DEBUG:DistRDF.Node:Define node shouldn't be pruned\n",
      "DEBUG:DistRDF.Node:Define node shouldn't be pruned\n",
      "DEBUG:DistRDF.Node:Filter node shouldn't be pruned\n",
      "DEBUG:DistRDF.Node:Define node shouldn't be pruned\n",
      "DEBUG:DistRDF.Node:Filter node shouldn't be pruned\n",
      "DEBUG:DistRDF.Node:Graph pruning completed\n",
      "DEBUG:DistRDF.Node:Building clustered ranges for tree Events with the following input files:\n",
      "['root://eoscms.cern.ch///eos/cms/store/data/Run2018A/DoubleMuon/NANOAOD/UL2018_MiniAODv2_NanoAODv9-v1/270000/02466EF4-1D3E-BF4C-B43F-0DCC7C61BCC2.root', 'root://eoscms.cern.ch///eos/cms/store/data/Run2018A/DoubleMuon/NANOAOD/UL2018_MiniAODv2_NanoAODv9-v1/270000/05F131DC-3124-8840-93DE-BF3133552488.root', 'root://eoscms.cern.ch///eos/cms/store/data/Run2018A/DoubleMuon/NANOAOD/UL2018_MiniAODv2_NanoAODv9-v1/270000/0A439D00-3AD6-534B-9B2D-2C25A5587B47.root', 'root://eoscms.cern.ch///eos/cms/store/data/Run2018A/DoubleMuon/NANOAOD/UL2018_MiniAODv2_NanoAODv9-v1/270000/0B7C8114-450F-734B-8626-732B42EBEEC4.root', 'root://eoscms.cern.ch///eos/cms/store/data/Run2018A/DoubleMuon/NANOAOD/UL2018_MiniAODv2_NanoAODv9-v1/270000/0D4F3FD9-8D83-4B4C-97BE-D448FBB479E2.root', 'root://eoscms.cern.ch///eos/cms/store/data/Run2018A/DoubleMuon/NANOAOD/UL2018_MiniAODv2_NanoAODv9-v1/270000/12AD738B-0662-474E-B558-D88470C0EF08.root', 'root://eoscms.cern.ch///eos/cms/store/data/Run2018A/DoubleMuon/NANOAOD/UL2018_MiniAODv2_NanoAODv9-v1/270000/1D732112-F76B-7047-9F88-E49C564E9EE4.root', 'root://eoscms.cern.ch///eos/cms/store/data/Run2018A/DoubleMuon/NANOAOD/UL2018_MiniAODv2_NanoAODv9-v1/270000/28602F22-B8E2-8246-9B47-13DE07131075.root', 'root://eoscms.cern.ch///eos/cms/store/data/Run2018A/DoubleMuon/NANOAOD/UL2018_MiniAODv2_NanoAODv9-v1/270000/3785A45F-E993-0F43-BEC3-101711433F78.root', 'root://eoscms.cern.ch///eos/cms/store/data/Run2018A/DoubleMuon/NANOAOD/UL2018_MiniAODv2_NanoAODv9-v1/270000/387CF2E3-9CC2-4249-B09B-3FA7CBFBF1B4.root', 'root://eoscms.cern.ch///eos/cms/store/data/Run2018A/DoubleMuon/NANOAOD/UL2018_MiniAODv2_NanoAODv9-v1/270000/405716B5-E951-E246-BEF2-C495540BB8A6.root', 'root://eoscms.cern.ch///eos/cms/store/data/Run2018A/DoubleMuon/NANOAOD/UL2018_MiniAODv2_NanoAODv9-v1/270000/4319D833-5DDD-1D4B-962A-35B03345FC45.root', 'root://eoscms.cern.ch///eos/cms/store/data/Run2018A/DoubleMuon/NANOAOD/UL2018_MiniAODv2_NanoAODv9-v1/270000/44688480-7CE7-124C-841C-E694F2CC6F74.root', 'root://eoscms.cern.ch///eos/cms/store/data/Run2018A/DoubleMuon/NANOAOD/UL2018_MiniAODv2_NanoAODv9-v1/270000/4617D01B-2592-A247-8E1A-5DF6503E0598.root', 'root://eoscms.cern.ch///eos/cms/store/data/Run2018A/DoubleMuon/NANOAOD/UL2018_MiniAODv2_NanoAODv9-v1/270000/46E187F4-B139-1F4E-A950-62D16ABBB12C.root', 'root://eoscms.cern.ch///eos/cms/store/data/Run2018A/DoubleMuon/NANOAOD/UL2018_MiniAODv2_NanoAODv9-v1/270000/53FBC128-866E-3B49-9001-40CFA9B52738.root', 'root://eoscms.cern.ch///eos/cms/store/data/Run2018A/DoubleMuon/NANOAOD/UL2018_MiniAODv2_NanoAODv9-v1/270000/544D5D57-8810-F541-BAD1-8CCFAE8809CF.root', 'root://eoscms.cern.ch///eos/cms/store/data/Run2018A/DoubleMuon/NANOAOD/UL2018_MiniAODv2_NanoAODv9-v1/270000/54E63342-2A6A-8140-97ED-F11D28D868D3.root', 'root://eoscms.cern.ch///eos/cms/store/data/Run2018A/DoubleMuon/NANOAOD/UL2018_MiniAODv2_NanoAODv9-v1/270000/58D3A69A-9DE0-854B-B38B-2F2AAEC74C93.root', 'root://eoscms.cern.ch///eos/cms/store/data/Run2018A/DoubleMuon/NANOAOD/UL2018_MiniAODv2_NanoAODv9-v1/270000/6EE4A399-824C-5E49-BEE6-22964ABB1C4C.root', 'root://eoscms.cern.ch///eos/cms/store/data/Run2018A/DoubleMuon/NANOAOD/UL2018_MiniAODv2_NanoAODv9-v1/270000/714E37D3-27F4-E144-80F7-B7B19F7EFD9F.root', 'root://eoscms.cern.ch///eos/cms/store/data/Run2018A/DoubleMuon/NANOAOD/UL2018_MiniAODv2_NanoAODv9-v1/270000/74E1983F-D98A-9047-97CC-ECE189BDFF5D.root', 'root://eoscms.cern.ch///eos/cms/store/data/Run2018A/DoubleMuon/NANOAOD/UL2018_MiniAODv2_NanoAODv9-v1/270000/7B3731A3-2FB1-2442-A6C0-B00131B2C28F.root', 'root://eoscms.cern.ch///eos/cms/store/data/Run2018A/DoubleMuon/NANOAOD/UL2018_MiniAODv2_NanoAODv9-v1/270000/7DEF466A-2804-6A45-BBB1-683545B8E8A8.root', 'root://eoscms.cern.ch///eos/cms/store/data/Run2018A/DoubleMuon/NANOAOD/UL2018_MiniAODv2_NanoAODv9-v1/270000/7EE4D81B-6DCE-EF46-A285-E8325039081A.root', 'root://eoscms.cern.ch///eos/cms/store/data/Run2018A/DoubleMuon/NANOAOD/UL2018_MiniAODv2_NanoAODv9-v1/270000/875C45A9-3B83-F54F-92E1-4FB7D09FDB47.root', 'root://eoscms.cern.ch///eos/cms/store/data/Run2018A/DoubleMuon/NANOAOD/UL2018_MiniAODv2_NanoAODv9-v1/270000/8856E6F2-66C5-F14A-B707-D7FB739CDC5D.root', 'root://eoscms.cern.ch///eos/cms/store/data/Run2018A/DoubleMuon/NANOAOD/UL2018_MiniAODv2_NanoAODv9-v1/270000/8B6FA3B7-A90A-F241-A4EB-C45BF3AFBB6A.root', 'root://eoscms.cern.ch///eos/cms/store/data/Run2018A/DoubleMuon/NANOAOD/UL2018_MiniAODv2_NanoAODv9-v1/270000/9F3AB9C9-3C4F-F546-AAE5-07EF5D572DC6.root', 'root://eoscms.cern.ch///eos/cms/store/data/Run2018A/DoubleMuon/NANOAOD/UL2018_MiniAODv2_NanoAODv9-v1/270000/AB4E19CC-AAEB-6C4B-A070-98B917CA7005.root', 'root://eoscms.cern.ch///eos/cms/store/data/Run2018A/DoubleMuon/NANOAOD/UL2018_MiniAODv2_NanoAODv9-v1/270000/B3FB6BA0-966E-D848-A768-550E6A9D3AEB.root', 'root://eoscms.cern.ch///eos/cms/store/data/Run2018A/DoubleMuon/NANOAOD/UL2018_MiniAODv2_NanoAODv9-v1/270000/C1F18B58-74CE-104C-BCEE-3A72F42B6135.root', 'root://eoscms.cern.ch///eos/cms/store/data/Run2018A/DoubleMuon/NANOAOD/UL2018_MiniAODv2_NanoAODv9-v1/270000/C218937D-A2AC-9949-8E65-D14C50F824AF.root', 'root://eoscms.cern.ch///eos/cms/store/data/Run2018A/DoubleMuon/NANOAOD/UL2018_MiniAODv2_NanoAODv9-v1/270000/C40FCD64-15B9-7949-AE52-DF0386C70BF1.root', 'root://eoscms.cern.ch///eos/cms/store/data/Run2018A/DoubleMuon/NANOAOD/UL2018_MiniAODv2_NanoAODv9-v1/270000/C489C20E-FD93-8B42-9F63-0AB2FB0F5C39.root', 'root://eoscms.cern.ch///eos/cms/store/data/Run2018A/DoubleMuon/NANOAOD/UL2018_MiniAODv2_NanoAODv9-v1/270000/C76216BC-AB58-1345-888A-412FBE44AA7D.root', 'root://eoscms.cern.ch///eos/cms/store/data/Run2018A/DoubleMuon/NANOAOD/UL2018_MiniAODv2_NanoAODv9-v1/270000/C79A98AB-8FF2-AE4C-ABF1-C2CA8BFCAA76.root', 'root://eoscms.cern.ch///eos/cms/store/data/Run2018A/DoubleMuon/NANOAOD/UL2018_MiniAODv2_NanoAODv9-v1/270000/D0DE088A-D6F2-9040-8E94-3EAE9957BE66.root', 'root://eoscms.cern.ch///eos/cms/store/data/Run2018A/DoubleMuon/NANOAOD/UL2018_MiniAODv2_NanoAODv9-v1/270000/D30D5390-4CCC-FD4A-ABFA-B6452E21DEC5.root', 'root://eoscms.cern.ch///eos/cms/store/data/Run2018A/DoubleMuon/NANOAOD/UL2018_MiniAODv2_NanoAODv9-v1/270000/D83B93E1-C631-D848-912F-D17D450FE6C2.root', 'root://eoscms.cern.ch///eos/cms/store/data/Run2018A/DoubleMuon/NANOAOD/UL2018_MiniAODv2_NanoAODv9-v1/270000/E2B2C6B3-F939-9048-913D-A3FE2ABB3DDF.root', 'root://eoscms.cern.ch///eos/cms/store/data/Run2018A/DoubleMuon/NANOAOD/UL2018_MiniAODv2_NanoAODv9-v1/270000/E4440A11-4534-014C-A589-16E756925799.root', 'root://eoscms.cern.ch///eos/cms/store/data/Run2018A/DoubleMuon/NANOAOD/UL2018_MiniAODv2_NanoAODv9-v1/270000/E4FFDEE9-01ED-A144-88C2-3D92A62AD015.root', 'root://eoscms.cern.ch///eos/cms/store/data/Run2018A/DoubleMuon/NANOAOD/UL2018_MiniAODv2_NanoAODv9-v1/270000/E7A0F22A-3B10-5F44-9040-625326E3D6A8.root', 'root://eoscms.cern.ch///eos/cms/store/data/Run2018A/DoubleMuon/NANOAOD/UL2018_MiniAODv2_NanoAODv9-v1/270000/E9F9903B-6CAE-3740-B53C-2D03AFCA1E32.root', 'root://eoscms.cern.ch///eos/cms/store/data/Run2018A/DoubleMuon/NANOAOD/UL2018_MiniAODv2_NanoAODv9-v1/270000/EF26CB1A-208B-AE40-9F33-C342A18B4FA5.root', 'root://eoscms.cern.ch///eos/cms/store/data/Run2018A/DoubleMuon/NANOAOD/UL2018_MiniAODv2_NanoAODv9-v1/270000/EFB6DAC8-916A-FF42-9F00-B045F343C9A0.root', 'root://eoscms.cern.ch///eos/cms/store/data/Run2018A/DoubleMuon/NANOAOD/UL2018_MiniAODv2_NanoAODv9-v1/270000/F1C3D223-A31F-E149-9091-791B8FAE070F.root', 'root://eoscms.cern.ch///eos/cms/store/data/Run2018A/DoubleMuon/NANOAOD/UL2018_MiniAODv2_NanoAODv9-v1/270000/F5C0A6E5-A9DC-6A45-94B4-098D2E28D077.root', 'root://eoscms.cern.ch///eos/cms/store/data/Run2018A/DoubleMuon/NANOAOD/UL2018_MiniAODv2_NanoAODv9-v1/270000/F6264423-79A7-B64A-BDD5-647805C234F2.root', 'root://eoscms.cern.ch///eos/cms/store/data/Run2018A/DoubleMuon/NANOAOD/UL2018_MiniAODv2_NanoAODv9-v1/270000/F7809E4C-167A-244E-AEE9-F5DD1C43719B.root', 'root://eoscms.cern.ch///eos/cms/store/data/Run2018A/DoubleMuon/NANOAOD/UL2018_MiniAODv2_NanoAODv9-v1/270000/FC0C7329-8A3F-7E4C-AA7A-6AAC9D3ACC4B.root', 'root://eoscms.cern.ch///eos/cms/store/data/Run2018A/DoubleMuon/NANOAOD/UL2018_MiniAODv2_NanoAODv9-v1/270000/FE922052-95CC-304A-83D3-F3E1D222B051.root', 'root://eoscms.cern.ch///eos/cms/store/data/Run2018A/DoubleMuon/NANOAOD/UL2018_MiniAODv2_NanoAODv9-v1/270000/FED197E8-6771-EB4E-BA3D-D6AC57263DC0.root', 'root://eoscms.cern.ch///eos/cms/store/data/Run2018B/DoubleMuon/NANOAOD/UL2018_MiniAODv2_NanoAODv9-v1/270000/0505F2F0-6F6D-0240-946A-9C2B65BFFA02.root', 'root://eoscms.cern.ch///eos/cms/store/data/Run2018B/DoubleMuon/NANOAOD/UL2018_MiniAODv2_NanoAODv9-v1/270000/098ABF75-8D93-1B45-84A1-981613A831E7.root', 'root://eoscms.cern.ch///eos/cms/store/data/Run2018B/DoubleMuon/NANOAOD/UL2018_MiniAODv2_NanoAODv9-v1/270000/20324905-EE60-9445-83C3-3F18A6C3E750.root', 'root://eoscms.cern.ch///eos/cms/store/data/Run2018B/DoubleMuon/NANOAOD/UL2018_MiniAODv2_NanoAODv9-v1/270000/26A32EF4-689F-B742-BCA5-60E60FAE1D95.root', 'root://eoscms.cern.ch///eos/cms/store/data/Run2018B/DoubleMuon/NANOAOD/UL2018_MiniAODv2_NanoAODv9-v1/270000/31F4F5F6-70B9-B341-BAF0-04FB8B240192.root', 'root://eoscms.cern.ch///eos/cms/store/data/Run2018B/DoubleMuon/NANOAOD/UL2018_MiniAODv2_NanoAODv9-v1/270000/3867A6BC-12A8-C445-AE4F-7E9ABE5DC0D5.root', 'root://eoscms.cern.ch///eos/cms/store/data/Run2018B/DoubleMuon/NANOAOD/UL2018_MiniAODv2_NanoAODv9-v1/270000/61A7CB73-0E0D-0A4A-BE72-4787CA196E3E.root', 'root://eoscms.cern.ch///eos/cms/store/data/Run2018B/DoubleMuon/NANOAOD/UL2018_MiniAODv2_NanoAODv9-v1/270000/74F60BED-114B-BC4E-9FDA-CC36D414FF1D.root', 'root://eoscms.cern.ch///eos/cms/store/data/Run2018B/DoubleMuon/NANOAOD/UL2018_MiniAODv2_NanoAODv9-v1/270000/7956F3EF-D268-564F-95EC-99DA4D5E7ADF.root', 'root://eoscms.cern.ch///eos/cms/store/data/Run2018B/DoubleMuon/NANOAOD/UL2018_MiniAODv2_NanoAODv9-v1/270000/7D32F35F-A811-D844-A712-DBB6810370C2.root', 'root://eoscms.cern.ch///eos/cms/store/data/Run2018B/DoubleMuon/NANOAOD/UL2018_MiniAODv2_NanoAODv9-v1/270000/7EE5C527-B391-934D-B59E-9AC40C2BC488.root', 'root://eoscms.cern.ch///eos/cms/store/data/Run2018B/DoubleMuon/NANOAOD/UL2018_MiniAODv2_NanoAODv9-v1/270000/838866CF-18AE-8A45-8780-76F2E359D4C0.root', 'root://eoscms.cern.ch///eos/cms/store/data/Run2018B/DoubleMuon/NANOAOD/UL2018_MiniAODv2_NanoAODv9-v1/270000/8AE6877F-91E6-914D-B346-09514695F15F.root', 'root://eoscms.cern.ch///eos/cms/store/data/Run2018B/DoubleMuon/NANOAOD/UL2018_MiniAODv2_NanoAODv9-v1/270000/A9522567-DBC2-474B-B5CD-3667BB1ED13C.root', 'root://eoscms.cern.ch///eos/cms/store/data/Run2018B/DoubleMuon/NANOAOD/UL2018_MiniAODv2_NanoAODv9-v1/270000/B62FFC66-F06B-B148-8B2C-E8AC12703159.root', 'root://eoscms.cern.ch///eos/cms/store/data/Run2018B/DoubleMuon/NANOAOD/UL2018_MiniAODv2_NanoAODv9-v1/270000/C21C3C23-5723-D545-A3B4-74B0D5524A6F.root', 'root://eoscms.cern.ch///eos/cms/store/data/Run2018B/DoubleMuon/NANOAOD/UL2018_MiniAODv2_NanoAODv9-v1/270000/C429D86F-5681-784E-99C0-0641C0D05EB4.root', 'root://eoscms.cern.ch///eos/cms/store/data/Run2018B/DoubleMuon/NANOAOD/UL2018_MiniAODv2_NanoAODv9-v1/270000/D2CAFA6D-D802-2F48-BDDE-0B48CB1E0466.root', 'root://eoscms.cern.ch///eos/cms/store/data/Run2018B/DoubleMuon/NANOAOD/UL2018_MiniAODv2_NanoAODv9-v1/270000/DF04EA1A-CC93-6A44-89D2-BCCB80F34A4E.root', 'root://eoscms.cern.ch///eos/cms/store/data/Run2018B/DoubleMuon/NANOAOD/UL2018_MiniAODv2_NanoAODv9-v1/270000/E4B29848-0954-CA48-9123-9966DDE62D9A.root', 'root://eoscms.cern.ch///eos/cms/store/data/Run2018C/DoubleMuon/NANOAOD/UL2018_MiniAODv2_NanoAODv9-v1/130000/0AEED530-9B2D-0B46-85E9-4438B53302D6.root', 'root://eoscms.cern.ch///eos/cms/store/data/Run2018C/DoubleMuon/NANOAOD/UL2018_MiniAODv2_NanoAODv9-v1/130000/12E3FC3A-9DEF-7042-BA4A-57489FA1B23B.root', 'root://eoscms.cern.ch///eos/cms/store/data/Run2018C/DoubleMuon/NANOAOD/UL2018_MiniAODv2_NanoAODv9-v1/130000/145C0F11-41DD-CD43-B3E5-F43C37DED19A.root', 'root://eoscms.cern.ch///eos/cms/store/data/Run2018C/DoubleMuon/NANOAOD/UL2018_MiniAODv2_NanoAODv9-v1/130000/18E1280E-04BB-2D44-96D7-AF41AEC73CEA.root', 'root://eoscms.cern.ch///eos/cms/store/data/Run2018C/DoubleMuon/NANOAOD/UL2018_MiniAODv2_NanoAODv9-v1/130000/1CB51AE7-FEC7-0646-A024-34A0C878144F.root', 'root://eoscms.cern.ch///eos/cms/store/data/Run2018C/DoubleMuon/NANOAOD/UL2018_MiniAODv2_NanoAODv9-v1/130000/286E20FA-9976-8141-A3AD-9A3A6500973A.root', 'root://eoscms.cern.ch///eos/cms/store/data/Run2018C/DoubleMuon/NANOAOD/UL2018_MiniAODv2_NanoAODv9-v1/130000/320966A8-5E75-E840-B758-495FC010F3F9.root', 'root://eoscms.cern.ch///eos/cms/store/data/Run2018C/DoubleMuon/NANOAOD/UL2018_MiniAODv2_NanoAODv9-v1/130000/5105991D-9781-1A41-B0F7-9CAA6111B915.root', 'root://eoscms.cern.ch///eos/cms/store/data/Run2018C/DoubleMuon/NANOAOD/UL2018_MiniAODv2_NanoAODv9-v1/130000/52733DC7-DD9D-DA4C-88E5-142CF1C470A4.root', 'root://eoscms.cern.ch///eos/cms/store/data/Run2018C/DoubleMuon/NANOAOD/UL2018_MiniAODv2_NanoAODv9-v1/130000/66302C54-6134-EF49-A766-A9A47B406837.root', 'root://eoscms.cern.ch///eos/cms/store/data/Run2018C/DoubleMuon/NANOAOD/UL2018_MiniAODv2_NanoAODv9-v1/130000/6AF83DA1-D232-F440-B283-1C32E58FE5A5.root', 'root://eoscms.cern.ch///eos/cms/store/data/Run2018C/DoubleMuon/NANOAOD/UL2018_MiniAODv2_NanoAODv9-v1/130000/785155FA-14F9-6147-A9B7-D8E9DCAE9A56.root', 'root://eoscms.cern.ch///eos/cms/store/data/Run2018C/DoubleMuon/NANOAOD/UL2018_MiniAODv2_NanoAODv9-v1/130000/801CC074-D942-254F-BB0A-C0B484D1544A.root', 'root://eoscms.cern.ch///eos/cms/store/data/Run2018C/DoubleMuon/NANOAOD/UL2018_MiniAODv2_NanoAODv9-v1/130000/932A48AA-F4D3-7841-B4C0-A83D9B788F7A.root', 'root://eoscms.cern.ch///eos/cms/store/data/Run2018C/DoubleMuon/NANOAOD/UL2018_MiniAODv2_NanoAODv9-v1/130000/A0F58072-3580-8C44-8190-C5CCD5E1D39D.root', 'root://eoscms.cern.ch///eos/cms/store/data/Run2018C/DoubleMuon/NANOAOD/UL2018_MiniAODv2_NanoAODv9-v1/130000/A545A3BD-DE13-9D4B-9DA0-E378D1616F40.root', 'root://eoscms.cern.ch///eos/cms/store/data/Run2018C/DoubleMuon/NANOAOD/UL2018_MiniAODv2_NanoAODv9-v1/130000/AB8372D5-3DCC-BD4A-9CBF-B4A8770A5E7B.root', 'root://eoscms.cern.ch///eos/cms/store/data/Run2018C/DoubleMuon/NANOAOD/UL2018_MiniAODv2_NanoAODv9-v1/130000/AE801C5A-227F-4441-8DE3-8F52E6222A0A.root', 'root://eoscms.cern.ch///eos/cms/store/data/Run2018C/DoubleMuon/NANOAOD/UL2018_MiniAODv2_NanoAODv9-v1/130000/BEC3C6F4-9380-E040-9C59-9463BF55F2C1.root', 'root://eoscms.cern.ch///eos/cms/store/data/Run2018C/DoubleMuon/NANOAOD/UL2018_MiniAODv2_NanoAODv9-v1/130000/D0FE09B9-F2A7-894E-B516-118FA46C133C.root', 'root://eoscms.cern.ch///eos/cms/store/data/Run2018C/DoubleMuon/NANOAOD/UL2018_MiniAODv2_NanoAODv9-v1/130000/D94B3276-1B33-4146-A4D8-23C6B6B103EF.root', 'root://eoscms.cern.ch///eos/cms/store/data/Run2018C/DoubleMuon/NANOAOD/UL2018_MiniAODv2_NanoAODv9-v1/130000/DFBE6815-4CA5-CF43-A85D-DAA41A4D3C6F.root', 'root://eoscms.cern.ch///eos/cms/store/data/Run2018C/DoubleMuon/NANOAOD/UL2018_MiniAODv2_NanoAODv9-v1/130000/EB08B5E6-E13F-9C47-B48E-6ACA5BD3C5AC.root', 'root://eoscms.cern.ch///eos/cms/store/data/Run2018C/DoubleMuon/NANOAOD/UL2018_MiniAODv2_NanoAODv9-v1/130000/EDF162A4-F822-3547-9B51-36F7998DF0C1.root', 'root://eoscms.cern.ch///eos/cms/store/data/Run2018C/DoubleMuon/NANOAOD/UL2018_MiniAODv2_NanoAODv9-v1/130000/FC66BB99-B6C3-6C47-97B1-2654220B4D73.root', 'root://eoscms.cern.ch///eos/cms/store/data/Run2018D/DoubleMuon/NANOAOD/UL2018_MiniAODv2_NanoAODv9-v1/130000/025F2A33-7EE4-A74D-86F4-E6C33D1E241C.root', 'root://eoscms.cern.ch///eos/cms/store/data/Run2018D/DoubleMuon/NANOAOD/UL2018_MiniAODv2_NanoAODv9-v1/130000/06A57D55-A51D-0144-8AA2-31C0B254490E.root', 'root://eoscms.cern.ch///eos/cms/store/data/Run2018D/DoubleMuon/NANOAOD/UL2018_MiniAODv2_NanoAODv9-v1/130000/0C710CCB-0A7E-AA42-84AA-009CD8CDB44A.root', 'root://eoscms.cern.ch///eos/cms/store/data/Run2018D/DoubleMuon/NANOAOD/UL2018_MiniAODv2_NanoAODv9-v1/130000/0D3F3DA2-86B6-D945-B40C-EDAD18AEF328.root', 'root://eoscms.cern.ch///eos/cms/store/data/Run2018D/DoubleMuon/NANOAOD/UL2018_MiniAODv2_NanoAODv9-v1/130000/0EF1F750-7E82-C74E-8B7E-7F4253392BF6.root', 'root://eoscms.cern.ch///eos/cms/store/data/Run2018D/DoubleMuon/NANOAOD/UL2018_MiniAODv2_NanoAODv9-v1/130000/1A586774-DB0F-DB49-8D47-4FE1B6A02A42.root', 'root://eoscms.cern.ch///eos/cms/store/data/Run2018D/DoubleMuon/NANOAOD/UL2018_MiniAODv2_NanoAODv9-v1/130000/33CF2534-081D-834C-882B-A9A09622C86F.root', 'root://eoscms.cern.ch///eos/cms/store/data/Run2018D/DoubleMuon/NANOAOD/UL2018_MiniAODv2_NanoAODv9-v1/130000/38051743-A620-604A-816F-4C7578CBF193.root', 'root://eoscms.cern.ch///eos/cms/store/data/Run2018D/DoubleMuon/NANOAOD/UL2018_MiniAODv2_NanoAODv9-v1/130000/3C926CF4-9B89-7B47-8B95-1CA6EE21F315.root', 'root://eoscms.cern.ch///eos/cms/store/data/Run2018D/DoubleMuon/NANOAOD/UL2018_MiniAODv2_NanoAODv9-v1/130000/456AB388-52F3-B04B-A252-BE922231F87E.root', 'root://eoscms.cern.ch///eos/cms/store/data/Run2018D/DoubleMuon/NANOAOD/UL2018_MiniAODv2_NanoAODv9-v1/130000/4C3B0260-3D2E-D14B-B511-98B21E964DEB.root', 'root://eoscms.cern.ch///eos/cms/store/data/Run2018D/DoubleMuon/NANOAOD/UL2018_MiniAODv2_NanoAODv9-v1/130000/51106440-8851-5C48-B356-403BC0750887.root', 'root://eoscms.cern.ch///eos/cms/store/data/Run2018D/DoubleMuon/NANOAOD/UL2018_MiniAODv2_NanoAODv9-v1/130000/5A07F61D-412D-184F-BB47-C72376CA7D3A.root', 'root://eoscms.cern.ch///eos/cms/store/data/Run2018D/DoubleMuon/NANOAOD/UL2018_MiniAODv2_NanoAODv9-v1/130000/62FE07FD-3A3D-7A4E-BAD2-04C33AE0040B.root', 'root://eoscms.cern.ch///eos/cms/store/data/Run2018D/DoubleMuon/NANOAOD/UL2018_MiniAODv2_NanoAODv9-v1/130000/6802B053-8560-B243-BAE5-A32260D299B0.root', 'root://eoscms.cern.ch///eos/cms/store/data/Run2018D/DoubleMuon/NANOAOD/UL2018_MiniAODv2_NanoAODv9-v1/130000/68FAA971-8AB0-BC41-BF44-FE3B6CB5D50B.root', 'root://eoscms.cern.ch///eos/cms/store/data/Run2018D/DoubleMuon/NANOAOD/UL2018_MiniAODv2_NanoAODv9-v1/130000/6C98502D-314B-724F-8399-28AABF2C5340.root', 'root://eoscms.cern.ch///eos/cms/store/data/Run2018D/DoubleMuon/NANOAOD/UL2018_MiniAODv2_NanoAODv9-v1/130000/6D04E181-EAA3-DA42-8532-7DF7EF074D44.root', 'root://eoscms.cern.ch///eos/cms/store/data/Run2018D/DoubleMuon/NANOAOD/UL2018_MiniAODv2_NanoAODv9-v1/130000/70BB0497-3B8C-8644-B6FA-E1149EDBE193.root', 'root://eoscms.cern.ch///eos/cms/store/data/Run2018D/DoubleMuon/NANOAOD/UL2018_MiniAODv2_NanoAODv9-v1/130000/710A4408-A3B5-2646-A70D-11AEB3EDFADF.root', 'root://eoscms.cern.ch///eos/cms/store/data/Run2018D/DoubleMuon/NANOAOD/UL2018_MiniAODv2_NanoAODv9-v1/130000/763DEC82-7223-654D-8693-342C4901D6C8.root', 'root://eoscms.cern.ch///eos/cms/store/data/Run2018D/DoubleMuon/NANOAOD/UL2018_MiniAODv2_NanoAODv9-v1/130000/7B984961-D219-6343-97D7-8D3757DA10BB.root', 'root://eoscms.cern.ch///eos/cms/store/data/Run2018D/DoubleMuon/NANOAOD/UL2018_MiniAODv2_NanoAODv9-v1/130000/8DF50747-EA42-FF49-9E2D-2CAAFE581379.root', 'root://eoscms.cern.ch///eos/cms/store/data/Run2018D/DoubleMuon/NANOAOD/UL2018_MiniAODv2_NanoAODv9-v1/130000/8E8358A3-B186-B743-8958-7D05A5BF8C81.root', 'root://eoscms.cern.ch///eos/cms/store/data/Run2018D/DoubleMuon/NANOAOD/UL2018_MiniAODv2_NanoAODv9-v1/130000/9126CFB5-D28C-524F-ADC1-B11534BFC4F9.root', 'root://eoscms.cern.ch///eos/cms/store/data/Run2018D/DoubleMuon/NANOAOD/UL2018_MiniAODv2_NanoAODv9-v1/130000/913C93E2-8916-0242-995C-48683448C215.root', 'root://eoscms.cern.ch///eos/cms/store/data/Run2018D/DoubleMuon/NANOAOD/UL2018_MiniAODv2_NanoAODv9-v1/130000/9E3D07DE-EDAB-2E48-A0C3-F4EA87932B1C.root', 'root://eoscms.cern.ch///eos/cms/store/data/Run2018D/DoubleMuon/NANOAOD/UL2018_MiniAODv2_NanoAODv9-v1/130000/9E88D32E-2809-8F4D-B8C4-DCA90BECC75C.root', 'root://eoscms.cern.ch///eos/cms/store/data/Run2018D/DoubleMuon/NANOAOD/UL2018_MiniAODv2_NanoAODv9-v1/130000/A69CF3F9-9A87-1E42-B809-C33350B5C69E.root', 'root://eoscms.cern.ch///eos/cms/store/data/Run2018D/DoubleMuon/NANOAOD/UL2018_MiniAODv2_NanoAODv9-v1/130000/AC815ED9-0B75-114B-949C-1F9FD1295F9B.root', 'root://eoscms.cern.ch///eos/cms/store/data/Run2018D/DoubleMuon/NANOAOD/UL2018_MiniAODv2_NanoAODv9-v1/130000/AF5A65BB-DF28-AF49-A32E-92F55F3A321D.root', 'root://eoscms.cern.ch///eos/cms/store/data/Run2018D/DoubleMuon/NANOAOD/UL2018_MiniAODv2_NanoAODv9-v1/130000/B2458EBF-BA6E-F64E-986A-EE3F355FAA2D.root', 'root://eoscms.cern.ch///eos/cms/store/data/Run2018D/DoubleMuon/NANOAOD/UL2018_MiniAODv2_NanoAODv9-v1/130000/B34F0AD2-9D0C-8A4A-81C9-1743A38C2ACA.root', 'root://eoscms.cern.ch///eos/cms/store/data/Run2018D/DoubleMuon/NANOAOD/UL2018_MiniAODv2_NanoAODv9-v1/130000/B6CC2DEF-9CBA-5B4B-B86D-6D726CD8573E.root', 'root://eoscms.cern.ch///eos/cms/store/data/Run2018D/DoubleMuon/NANOAOD/UL2018_MiniAODv2_NanoAODv9-v1/130000/CC637472-301F-5F42-9192-AEE829F3D471.root', 'root://eoscms.cern.ch///eos/cms/store/data/Run2018D/DoubleMuon/NANOAOD/UL2018_MiniAODv2_NanoAODv9-v1/130000/D3D1F5B8-9FA6-CB45-A592-DDE66722B22F.root', 'root://eoscms.cern.ch///eos/cms/store/data/Run2018D/DoubleMuon/NANOAOD/UL2018_MiniAODv2_NanoAODv9-v1/130000/D68EEEB7-3088-1E40-B2E1-574C24A85A43.root', 'root://eoscms.cern.ch///eos/cms/store/data/Run2018D/DoubleMuon/NANOAOD/UL2018_MiniAODv2_NanoAODv9-v1/130000/D806F2D2-13F7-B94E-BF24-CE8EB45F7BDC.root', 'root://eoscms.cern.ch///eos/cms/store/data/Run2018D/DoubleMuon/NANOAOD/UL2018_MiniAODv2_NanoAODv9-v1/130000/D95CDF31-5F90-344D-A40B-583164119B1E.root', 'root://eoscms.cern.ch///eos/cms/store/data/Run2018D/DoubleMuon/NANOAOD/UL2018_MiniAODv2_NanoAODv9-v1/130000/EB6F7B8D-ADB7-4D4B-84A1-0F2DC4584686.root', 'root://eoscms.cern.ch///eos/cms/store/data/Run2018D/DoubleMuon/NANOAOD/UL2018_MiniAODv2_NanoAODv9-v1/130000/F01C42E5-33CD-F544-AEC8-51D539B8C56C.root', 'root://eoscms.cern.ch///eos/cms/store/data/Run2018D/DoubleMuon/NANOAOD/UL2018_MiniAODv2_NanoAODv9-v1/130000/F254AC86-39BD-5441-AC0D-BEDF5408EE7F.root', 'root://eoscms.cern.ch///eos/cms/store/data/Run2018D/DoubleMuon/NANOAOD/UL2018_MiniAODv2_NanoAODv9-v1/130000/F34D4764-FB98-8040-AAB3-63FE889DDE62.root', 'root://eoscms.cern.ch///eos/cms/store/data/Run2018D/DoubleMuon/NANOAOD/UL2018_MiniAODv2_NanoAODv9-v1/130000/F724C2FD-9326-4043-A8A5-70685EF1FC97.root', 'root://eoscms.cern.ch///eos/cms/store/data/Run2018D/DoubleMuon/NANOAOD/UL2018_MiniAODv2_NanoAODv9-v1/130000/F7B35F7D-3DFE-6C45-ABEF-D30B58D524C8.root', 'root://eoscms.cern.ch///eos/cms/store/data/Run2018D/DoubleMuon/NANOAOD/UL2018_MiniAODv2_NanoAODv9-v1/130000/F900072E-5E1F-C944-A2B9-7362DEB734F8.root', 'root://eoscms.cern.ch///eos/cms/store/data/Run2018D/DoubleMuon/NANOAOD/UL2018_MiniAODv2_NanoAODv9-v1/270000/0F6F301A-E1C0-E64A-A3B4-D6A0CCE5649E.root', 'root://eoscms.cern.ch///eos/cms/store/data/Run2018D/DoubleMuon/NANOAOD/UL2018_MiniAODv2_NanoAODv9-v1/270000/10F68FF5-673E-E94E-9E23-6D625E485EE5.root', 'root://eoscms.cern.ch///eos/cms/store/data/Run2018D/DoubleMuon/NANOAOD/UL2018_MiniAODv2_NanoAODv9-v1/270000/1B56D45D-7201-C544-8C14-9597EA2250C5.root', 'root://eoscms.cern.ch///eos/cms/store/data/Run2018D/DoubleMuon/NANOAOD/UL2018_MiniAODv2_NanoAODv9-v1/270000/227F3045-8F4E-C24B-A9E4-E4A6F775A9DC.root', 'root://eoscms.cern.ch///eos/cms/store/data/Run2018D/DoubleMuon/NANOAOD/UL2018_MiniAODv2_NanoAODv9-v1/270000/2301D41F-CD90-9346-A795-BD89C45159C4.root', 'root://eoscms.cern.ch///eos/cms/store/data/Run2018D/DoubleMuon/NANOAOD/UL2018_MiniAODv2_NanoAODv9-v1/270000/241F740F-6DE4-074C-B95E-637B7D1289A6.root', 'root://eoscms.cern.ch///eos/cms/store/data/Run2018D/DoubleMuon/NANOAOD/UL2018_MiniAODv2_NanoAODv9-v1/270000/2465660E-F99A-EA4D-AE33-C5A864C36D09.root', 'root://eoscms.cern.ch///eos/cms/store/data/Run2018D/DoubleMuon/NANOAOD/UL2018_MiniAODv2_NanoAODv9-v1/270000/28C3CD99-3977-9C4C-9E7C-7D84178706C5.root', 'root://eoscms.cern.ch///eos/cms/store/data/Run2018D/DoubleMuon/NANOAOD/UL2018_MiniAODv2_NanoAODv9-v1/270000/2919D34D-E6C5-7340-8A39-14D30A99C061.root', 'root://eoscms.cern.ch///eos/cms/store/data/Run2018D/DoubleMuon/NANOAOD/UL2018_MiniAODv2_NanoAODv9-v1/270000/3CF1F850-6E0A-0D40-AB01-811EAABDF574.root', 'root://eoscms.cern.ch///eos/cms/store/data/Run2018D/DoubleMuon/NANOAOD/UL2018_MiniAODv2_NanoAODv9-v1/270000/481500C1-37BC-E442-9035-B091DD926F6E.root', 'root://eoscms.cern.ch///eos/cms/store/data/Run2018D/DoubleMuon/NANOAOD/UL2018_MiniAODv2_NanoAODv9-v1/270000/511C6B09-CFD4-C341-AA17-8D456A8C5B1E.root', 'root://eoscms.cern.ch///eos/cms/store/data/Run2018D/DoubleMuon/NANOAOD/UL2018_MiniAODv2_NanoAODv9-v1/270000/5F49EFA2-18AC-9C41-B760-07907CDFD40D.root', 'root://eoscms.cern.ch///eos/cms/store/data/Run2018D/DoubleMuon/NANOAOD/UL2018_MiniAODv2_NanoAODv9-v1/270000/67CB8F1C-1597-FF46-87C2-C0CB12D1275D.root', 'root://eoscms.cern.ch///eos/cms/store/data/Run2018D/DoubleMuon/NANOAOD/UL2018_MiniAODv2_NanoAODv9-v1/270000/6954900E-F0E5-594C-9187-A19686A3BE6A.root', 'root://eoscms.cern.ch///eos/cms/store/data/Run2018D/DoubleMuon/NANOAOD/UL2018_MiniAODv2_NanoAODv9-v1/270000/6C003F8B-A373-4C45-BF1E-74A31542CBE4.root', 'root://eoscms.cern.ch///eos/cms/store/data/Run2018D/DoubleMuon/NANOAOD/UL2018_MiniAODv2_NanoAODv9-v1/270000/72730FE1-1BCB-184A-8CD1-98E05D58A74F.root', 'root://eoscms.cern.ch///eos/cms/store/data/Run2018D/DoubleMuon/NANOAOD/UL2018_MiniAODv2_NanoAODv9-v1/270000/73CA6ABC-A50A-B04D-9C60-2BD7FB76C9E3.root', 'root://eoscms.cern.ch///eos/cms/store/data/Run2018D/DoubleMuon/NANOAOD/UL2018_MiniAODv2_NanoAODv9-v1/270000/758B9B73-053C-6B45-A946-AACA2AAC57BD.root', 'root://eoscms.cern.ch///eos/cms/store/data/Run2018D/DoubleMuon/NANOAOD/UL2018_MiniAODv2_NanoAODv9-v1/270000/78637A5F-E4EA-5843-A95E-A63C434466BE.root', 'root://eoscms.cern.ch///eos/cms/store/data/Run2018D/DoubleMuon/NANOAOD/UL2018_MiniAODv2_NanoAODv9-v1/270000/79CDA64F-C8BD-0746-8464-A43E8ECFF579.root', 'root://eoscms.cern.ch///eos/cms/store/data/Run2018D/DoubleMuon/NANOAOD/UL2018_MiniAODv2_NanoAODv9-v1/270000/7ACB0C6C-3744-DC43-A401-074220F2D8F5.root', 'root://eoscms.cern.ch///eos/cms/store/data/Run2018D/DoubleMuon/NANOAOD/UL2018_MiniAODv2_NanoAODv9-v1/270000/7DD21D53-739F-2441-A49B-EAEB974AAE1E.root', 'root://eoscms.cern.ch///eos/cms/store/data/Run2018D/DoubleMuon/NANOAOD/UL2018_MiniAODv2_NanoAODv9-v1/270000/7FADD38E-BC5E-7A44-8DD8-2AFF53FDB7B0.root', 'root://eoscms.cern.ch///eos/cms/store/data/Run2018D/DoubleMuon/NANOAOD/UL2018_MiniAODv2_NanoAODv9-v1/270000/846B8D97-840D-5A4B-B904-A807BFD3E978.root', 'root://eoscms.cern.ch///eos/cms/store/data/Run2018D/DoubleMuon/NANOAOD/UL2018_MiniAODv2_NanoAODv9-v1/270000/89779858-6888-9545-9FDC-C97D345842FF.root', 'root://eoscms.cern.ch///eos/cms/store/data/Run2018D/DoubleMuon/NANOAOD/UL2018_MiniAODv2_NanoAODv9-v1/270000/8A076243-E9A2-0B46-8CCD-CA518D4FBED4.root', 'root://eoscms.cern.ch///eos/cms/store/data/Run2018D/DoubleMuon/NANOAOD/UL2018_MiniAODv2_NanoAODv9-v1/270000/9B70B94E-66FA-9F41-B101-35C39067A508.root', 'root://eoscms.cern.ch///eos/cms/store/data/Run2018D/DoubleMuon/NANOAOD/UL2018_MiniAODv2_NanoAODv9-v1/270000/9C111551-01E6-F640-8DD9-1DE0E4768732.root', 'root://eoscms.cern.ch///eos/cms/store/data/Run2018D/DoubleMuon/NANOAOD/UL2018_MiniAODv2_NanoAODv9-v1/270000/9E6E21A4-8043-7845-9F72-2375DA9DD473.root', 'root://eoscms.cern.ch///eos/cms/store/data/Run2018D/DoubleMuon/NANOAOD/UL2018_MiniAODv2_NanoAODv9-v1/270000/A10BC7F0-EE28-1F41-A99C-1AF0CA8FF76F.root', 'root://eoscms.cern.ch///eos/cms/store/data/Run2018D/DoubleMuon/NANOAOD/UL2018_MiniAODv2_NanoAODv9-v1/270000/A480A85E-8F8F-424E-8A1B-782159DBE995.root', 'root://eoscms.cern.ch///eos/cms/store/data/Run2018D/DoubleMuon/NANOAOD/UL2018_MiniAODv2_NanoAODv9-v1/270000/A588B0EF-2DA8-C74E-B238-F6B4D4E4888E.root', 'root://eoscms.cern.ch///eos/cms/store/data/Run2018D/DoubleMuon/NANOAOD/UL2018_MiniAODv2_NanoAODv9-v1/270000/A8963E11-648A-BF4E-A96B-FA5E10B0DF91.root', 'root://eoscms.cern.ch///eos/cms/store/data/Run2018D/DoubleMuon/NANOAOD/UL2018_MiniAODv2_NanoAODv9-v1/270000/B4AAE8F6-6832-FA48-B8F8-C26A8F66AE35.root', 'root://eoscms.cern.ch///eos/cms/store/data/Run2018D/DoubleMuon/NANOAOD/UL2018_MiniAODv2_NanoAODv9-v1/270000/BFCDAEEA-419A-184F-AA2E-0F971F04AB0C.root', 'root://eoscms.cern.ch///eos/cms/store/data/Run2018D/DoubleMuon/NANOAOD/UL2018_MiniAODv2_NanoAODv9-v1/270000/CA2545DA-04DD-8849-AEA6-F11F23587E5C.root', 'root://eoscms.cern.ch///eos/cms/store/data/Run2018D/DoubleMuon/NANOAOD/UL2018_MiniAODv2_NanoAODv9-v1/270000/CA9C03C1-12B6-8144-BE80-4828F9F01917.root', 'root://eoscms.cern.ch///eos/cms/store/data/Run2018D/DoubleMuon/NANOAOD/UL2018_MiniAODv2_NanoAODv9-v1/270000/D1B8B579-97D8-4749-8244-0F18D11BD391.root', 'root://eoscms.cern.ch///eos/cms/store/data/Run2018D/DoubleMuon/NANOAOD/UL2018_MiniAODv2_NanoAODv9-v1/270000/D532D4BF-A1CA-CD4E-A3F1-EC8C2C1F9FCB.root', 'root://eoscms.cern.ch///eos/cms/store/data/Run2018D/DoubleMuon/NANOAOD/UL2018_MiniAODv2_NanoAODv9-v1/270000/DF1E40B7-3CC9-2A49-B443-860777C9AFC3.root', 'root://eoscms.cern.ch///eos/cms/store/data/Run2018D/DoubleMuon/NANOAOD/UL2018_MiniAODv2_NanoAODv9-v1/270000/E2124704-78C0-9C45-907B-320501DA9E29.root', 'root://eoscms.cern.ch///eos/cms/store/data/Run2018D/DoubleMuon/NANOAOD/UL2018_MiniAODv2_NanoAODv9-v1/270000/E71AEC71-AD3F-C044-92E5-4D669B273A8B.root', 'root://eoscms.cern.ch///eos/cms/store/data/Run2018D/DoubleMuon/NANOAOD/UL2018_MiniAODv2_NanoAODv9-v1/270000/E8400FE3-9663-894C-B5AE-40C535C6E119.root', 'root://eoscms.cern.ch///eos/cms/store/data/Run2018D/DoubleMuon/NANOAOD/UL2018_MiniAODv2_NanoAODv9-v1/270000/E9B07AAB-136B-FD4D-81DF-E814B4C1A7E5.root', 'root://eoscms.cern.ch///eos/cms/store/data/Run2018D/DoubleMuon/NANOAOD/UL2018_MiniAODv2_NanoAODv9-v1/270000/F13DDDBE-CDAF-FE4D-8387-990BF513EBFA.root', 'root://eoscms.cern.ch///eos/cms/store/data/Run2018D/DoubleMuon/NANOAOD/UL2018_MiniAODv2_NanoAODv9-v1/270000/FB1D608A-9EAE-ED4D-8D2E-17B0CE05B2CB.root']\n"
     ]
    }
   ],
   "source": [
    "#save the snapshot\n",
    "import time\n",
    "PATH='~'\n",
    "tic=time.time()\n",
    "snapshot=df_dimu_sel.Snapshot('Events',PATH+'/df_dimu_sel.root',branchList)\n",
    "print('Creating the snapshot took %2.2f sec' % ((time.time()-tic)))"
   ]
  },
  {
   "cell_type": "code",
   "execution_count": null,
   "id": "0e3e99e9",
   "metadata": {
    "scrolled": true
   },
   "outputs": [],
   "source": [
    "#check the new filesize:\n",
    "print('output filesize = %s'%(PrintFileSize(os.path.getsize(PATH+'/df_dimu_sel.root')) ))"
   ]
  },
  {
   "cell_type": "code",
   "execution_count": null,
   "id": "77456333",
   "metadata": {},
   "outputs": [],
   "source": [
    "#check the file content:\n",
    "f1 = ROOT.TFile(PATH+'/df_dimu_sel.root')\n",
    "t = f1.Events\n",
    "print(\"These are the columns:\")\n",
    "for branch in t.GetListOfBranches():\n",
    "    print(\"Branch: %s\" %branch.GetName())\n",
    "f1.Close()"
   ]
  },
  {
   "cell_type": "markdown",
   "id": "f5b2c6f0",
   "metadata": {},
   "source": [
    "### Next time you start - start from here\n",
    "\n",
    "import relevant modules, and load the snapshot for future studies"
   ]
  },
  {
   "cell_type": "code",
   "execution_count": null,
   "id": "cafda048",
   "metadata": {},
   "outputs": [],
   "source": [
    "#import ROOT\n",
    "#ROOT.ROOT.EnableImplicitMT()\n",
    "#ROOT.gInterpreter.Declare('#include \"SelectorTools.h\"')\n",
    "#from Datasets import *\n",
    "#from Helpers import *\n",
    "\n",
    "# PATH='.'\n",
    "# df_dimu_sel = ROOT.RDataFrame(\"Events\",PATH+'/df_dimu_sel.root')\n",
    "df_dimu_sel=snapshot"
   ]
  },
  {
   "cell_type": "markdown",
   "id": "524cdfff",
   "metadata": {},
   "source": [
    "# 2. Correlation between leptons and protons\n",
    "\n",
    "## Tagged protons selection\n",
    "\n",
    "Once events with exclusive signature have been selected, correlation between the proton kimenatics and lepton kinematics is tested. In exclusive production where leptons and protons have the same origin, full correlation will be observed.\n",
    "\n",
    "Before starting with the analysis, we will select events with good tagged protons and central event kinematics (di-$\\ell$) which predict a proton within the acceptance of the PPS.\n",
    "\n",
    "### PPS acceptance:\n",
    "\n",
    "We will extract the acceptance of PPS detectors"
   ]
  },
  {
   "cell_type": "code",
   "execution_count": null,
   "id": "eadc6794",
   "metadata": {},
   "outputs": [],
   "source": [
    "def select_proton_pos(df):\n",
    "    \n",
    "    #recontruct xi from di-lepton\n",
    "    df = df.Define(\"xi0_ll\", \"Sum(good_mu_pt*exp(+good_mu_eta))/13000.\")\n",
    "    \n",
    "    #proton selection\n",
    "    df = df.Define('xi_pr0','SelectProtonXi(Proton_multiRP_xi,Proton_multiRP_arm,xi0_ll,0)').Filter('xi_pr0>0','proton in the positive arm') # proton in positive direction (+z)\n",
    "    \n",
    "    return df\n",
    "\n",
    "def select_proton_neg(df):\n",
    "    \n",
    "    #recontruct xi from di-lepton\n",
    "    df = df.Define(\"xi1_ll\", \"Sum(good_mu_pt*exp(-good_mu_eta))/13000.\")\n",
    "\n",
    "    #proton selection\n",
    "    df = df.Define('xi_pr1','SelectProtonXi(Proton_multiRP_xi,Proton_multiRP_arm,xi1_ll,1)').Filter('xi_pr1>0','proton in the negative arm') # proton in negative direction (-z)\n",
    "    \n",
    "    return df"
   ]
  },
  {
   "cell_type": "code",
   "execution_count": null,
   "id": "0f6b1129",
   "metadata": {},
   "outputs": [],
   "source": [
    "df_dimu_sel_pro0 = select_proton_pos(df_dimu_sel)\n",
    "\n",
    "minVal0 = df_dimu_sel_pro0.Min('xi_pr0')\n",
    "maxVal0 = df_dimu_sel_pro0.Max('xi_pr0')\n",
    "print(\"Positive arm acceptance:%s <= xi <= %s\" %(minVal0.GetValue(), maxVal0.GetValue()))\n",
    " "
   ]
  },
  {
   "cell_type": "code",
   "execution_count": null,
   "id": "c80b4652",
   "metadata": {},
   "outputs": [],
   "source": [
    "#filter events with reconstructed xi from di-lep is outside PPS acceptance\n",
    "#df_dimu_sel_pro0_withll = df_dimu_sel_pro0.Filter('xi0_ll>%s && xi0_ll<%s'%(minVal0.GetValue(), maxVal0.GetValue()),'dilep predict a proton in +z')\n",
    "df_dimu_sel_pro0_withll = df_dimu_sel_pro0.Filter('xi0_ll>%s && xi0_ll<%s'%(0.04, maxVal0.GetValue()),'dilep predict a proton in +z')"
   ]
  },
  {
   "cell_type": "code",
   "execution_count": null,
   "id": "1dabb108",
   "metadata": {},
   "outputs": [],
   "source": [
    "# report = df_dimu_sel_pro0_withll.Report()\n",
    "# report.Print()"
   ]
  },
  {
   "cell_type": "code",
   "execution_count": null,
   "id": "e75f476c",
   "metadata": {},
   "outputs": [],
   "source": [
    "df_dimu_sel_pro1 = select_proton_neg(df_dimu_sel)\n",
    "\n",
    "minVal1 = df_dimu_sel_pro1.Min('xi_pr1')\n",
    "maxVal1 = df_dimu_sel_pro1.Max('xi_pr1')\n",
    "print(\"Negative arm acceptance:%s <= xi <= %s\" %(minVal1.GetValue(), maxVal1.GetValue()))\n",
    " "
   ]
  },
  {
   "cell_type": "code",
   "execution_count": null,
   "id": "73e07697",
   "metadata": {},
   "outputs": [],
   "source": [
    "#filter events with reconstructed xi from di-lep is outside PPS acceptance\n",
    "#df_dimu_sel_pro1_withll = df_dimu_sel_pro1.Filter('xi1_ll>%s && xi1_ll<%s'%(minVal1.GetValue(), maxVal1.GetValue()),'dilep predict a proton in -z')\n",
    "df_dimu_sel_pro1_withll = df_dimu_sel_pro1.Filter('xi1_ll>%s && xi1_ll<%s'%(0.04, maxVal1.GetValue()),'dilep predict a proton in -z')"
   ]
  },
  {
   "cell_type": "code",
   "execution_count": null,
   "id": "062a023b",
   "metadata": {},
   "outputs": [],
   "source": [
    "# report = df_dimu_sel_pro1_withll.Report()\n",
    "# report.Print()"
   ]
  },
  {
   "cell_type": "markdown",
   "id": "b885959d",
   "metadata": {},
   "source": [
    "Once the PPS acceptance is extracted, and we selected events where two-lepton kinematics suggest a proton within the PPS detector, we can inspect correlations."
   ]
  },
  {
   "cell_type": "code",
   "execution_count": null,
   "id": "0d4ba0a3",
   "metadata": {},
   "outputs": [],
   "source": [
    "df_dimu_sel_pro0_withll_delXi = df_dimu_sel_pro0_withll.Define('DelXi','xi0_ll-xi_pr0')\n",
    "h_xi0 = df_dimu_sel_pro0_withll_delXi.Histo1D((\"Delta_xi0\", \";#xi_{ll}-#xi_{p+};N_{Events}\", 100, -0.1, 0.1), \"DelXi\")"
   ]
  },
  {
   "cell_type": "code",
   "execution_count": null,
   "id": "f98d9c9f",
   "metadata": {},
   "outputs": [],
   "source": [
    "# Produce plots\n",
    "c=PlotMe(h_xi0)\n",
    "c.Draw()\n",
    "c.SaveAs(\"correlation_positive_arm.pdf\")"
   ]
  },
  {
   "cell_type": "code",
   "execution_count": null,
   "id": "16a71db0",
   "metadata": {},
   "outputs": [],
   "source": [
    "df_dimu_sel_pro1_withll_delXi = df_dimu_sel_pro1_withll.Define('DelXi','xi1_ll-xi_pr1')\n",
    "h_xi1 = df_dimu_sel_pro1_withll_delXi.Histo1D((\"Delta_xi1\", \";#xi_{ll}-#xi_{p-};N_{Events}\", 100, -0.1, 0.1), \"DelXi\")"
   ]
  },
  {
   "cell_type": "code",
   "execution_count": null,
   "id": "6ea4d91c",
   "metadata": {},
   "outputs": [],
   "source": [
    " # Produce plots\n",
    "c=PlotMe(h_xi1)\n",
    "c.Draw()\n",
    "c.SaveAs(\"correlation_negative_arm.pdf\")"
   ]
  },
  {
   "cell_type": "code",
   "execution_count": null,
   "id": "e93a412d",
   "metadata": {},
   "outputs": [],
   "source": [
    "h_xi1_2D = df_dimu_sel_pro1_withll.Histo2D((\"negXi_2D\", \";#xi_{ll};#xi_{pp}\", 64, 0., 0.2, 32, 0., 0.2), \"xi1_ll\", \"xi_pr1\");"
   ]
  },
  {
   "cell_type": "code",
   "execution_count": null,
   "id": "a46133db",
   "metadata": {},
   "outputs": [],
   "source": [
    " # Produce plots\n",
    "c=PlotMe(h_xi1_2D,'colz')\n",
    "c.Draw('colz') \n",
    "line=ROOT.TF1('line','x',0,0.2)\n",
    "line.SetLineWidth(3); line.Draw('sames')\n",
    "c.SaveAs(\"correlation_negative_arm_2D.pdf\")"
   ]
  },
  {
   "cell_type": "code",
   "execution_count": null,
   "id": "a58bfaa9",
   "metadata": {},
   "outputs": [],
   "source": []
  }
 ],
 "metadata": {
  "kernelspec": {
   "display_name": "Python 3 (ipykernel)",
   "language": "python",
   "name": "python3"
  },
  "language_info": {
   "codemirror_mode": {
    "name": "ipython",
    "version": 3
   },
   "file_extension": ".py",
   "mimetype": "text/x-python",
   "name": "python",
   "nbconvert_exporter": "python",
   "pygments_lexer": "ipython3",
   "version": "3.8.10"
  }
 },
 "nbformat": 4,
 "nbformat_minor": 5
}
