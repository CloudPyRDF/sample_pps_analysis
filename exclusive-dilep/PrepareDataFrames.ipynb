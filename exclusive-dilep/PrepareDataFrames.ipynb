{
 "cells": [
  {
   "cell_type": "markdown",
   "id": "4a053881",
   "metadata": {},
   "source": [
    "# Di-lepton analysis\n",
    "\n",
    "### Introduction\n",
    "\n",
    "This notebook is used to process the data stored in [NANOAOD](https://twiki.cern.ch/twiki/bin/view/CMSPublic/WorkBookNanoAOD) format, and select candidate events of exclusive dilepton production, $pp\\to p\\oplus\\ell\\ell\\oplus p$, with $\\ell\\in\\{ e,\\mu,\\tau \\} $. Feynman diagram of this process is shown bellow: \n",
    "\n",
    "<img src=\"img/diagrams.png\" alt=\"Feynman diagrams\" width=\"800\">\n",
    "\n"
   ]
  },
  {
   "cell_type": "markdown",
   "id": "a6209da4",
   "metadata": {},
   "source": [
    "This notebook was prepared based on the [df102_NanoAODDimuonAnalysis.py](https://root.cern.ch/doc/master/group__tutorial__dataframe.html) example from ROOT."
   ]
  },
  {
   "cell_type": "code",
   "execution_count": 1,
   "id": "988c84cf",
   "metadata": {},
   "outputs": [
    {
     "name": "stdout",
     "output_type": "stream",
     "text": [
      "Welcome to JupyROOT 6.24/00\n"
     ]
    },
    {
     "data": {
      "text/plain": [
       "True"
      ]
     },
     "execution_count": 1,
     "metadata": {},
     "output_type": "execute_result"
    }
   ],
   "source": [
    "import ROOT\n",
    " \n",
    "# Enable multi-threading\n",
    "ROOT.ROOT.EnableImplicitMT()\n",
    "\n",
    "#include auxiliary functions from C++ header\n",
    "ROOT.gInterpreter.Declare('#include \"SelectorTools.h\"')"
   ]
  },
  {
   "cell_type": "markdown",
   "id": "15a242d0",
   "metadata": {},
   "source": [
    "### Datasets\n",
    "`Datasets.py` contains the list of datasets that can be used in the analysis. The `listDatasets()` command will print out the complete list of datasets and also information about samples availability on EOS. "
   ]
  },
  {
   "cell_type": "code",
   "execution_count": 2,
   "id": "79546d8c",
   "metadata": {
    "scrolled": false
   },
   "outputs": [
    {
     "name": "stdout",
     "output_type": "stream",
     "text": [
      "The following datasets are available:\n",
      "/DYJetsToLL_M-50_TuneCP5_13TeV-amcatnloFXFX-pythia8/RunIISummer20UL18NanoAODv9-Pilot_106X_upgrade2018_realistic_v15_L1v1-v2/NANOAODSIM (No directories available in EOS for this dataset)\n",
      "/DYToMuMu_pomflux_Pt-30_TuneCP5_13TeV-pythia8/RunIISummer20UL18NanoAODv9-106X_upgrade2018_realistic_v16_L1v1-v1/NANOAODSIM (No directories available in EOS for this dataset)\n",
      "/SingleMuon/Run2017A-UL2017_MiniAODv2_NanoAODv9-v1/NANOAOD (No directories available in EOS for this dataset)\n",
      "/SingleMuon/Run2017B-UL2017_MiniAODv2_NanoAODv9-v1/NANOAOD (in EOS: nfiles = 33, size = 56.40GB)\n",
      "/SingleMuon/Run2017C-UL2017_MiniAODv2_NanoAODv9-v1/NANOAOD (No directories available in EOS for this dataset)\n",
      "/SingleMuon/Run2017D-UL2017_MiniAODv2_NanoAODv9-v1/NANOAOD (No directories available in EOS for this dataset)\n",
      "/SingleMuon/Run2017E-UL2017_MiniAODv2_NanoAODv9-v1/NANOAOD (No directories available in EOS for this dataset)\n",
      "/SingleMuon/Run2017F-UL2017_MiniAODv2_NanoAODv9-v1/NANOAOD (No directories available in EOS for this dataset)\n",
      "/DoubleMuon/Run2017A-UL2017_MiniAODv2_NanoAODv9-v1/NANOAOD (No directories available in EOS for this dataset)\n",
      "/DoubleMuon/Run2017B-UL2017_MiniAODv2_NanoAODv9-v1/NANOAOD (No directories available in EOS for this dataset)\n",
      "/DoubleMuon/Run2017C-UL2017_MiniAODv2_NanoAODv9-v1/NANOAOD (No directories available in EOS for this dataset)\n",
      "/DoubleMuon/Run2017D-UL2017_MiniAODv2_NanoAODv9-v1/NANOAOD (No directories available in EOS for this dataset)\n",
      "/DoubleMuon/Run2017E-UL2017_MiniAODv2_NanoAODv9-v1/NANOAOD (No directories available in EOS for this dataset)\n",
      "/DoubleMuon/Run2017F-UL2017_MiniAODv2_NanoAODv9-v1/NANOAOD (in EOS: nfiles = 1, size = 289.36MB)\n",
      "/SingleElectron/Run2017A-UL2017_MiniAODv2_NanoAODv9-v1/NANOAOD (No directories available in EOS for this dataset)\n",
      "/SingleElectron/Run2017B-UL2017_MiniAODv2_NanoAODv9-v1/NANOAOD (No directories available in EOS for this dataset)\n",
      "/SingleElectron/Run2017C-UL2017_MiniAODv2_NanoAODv9-v1/NANOAOD (No directories available in EOS for this dataset)\n",
      "/SingleElectron/Run2017D-UL2017_MiniAODv2_NanoAODv9-v1/NANOAOD (No directories available in EOS for this dataset)\n",
      "/SingleElectron/Run2017E-UL2017_MiniAODv2_NanoAODv9-v1/NANOAOD (No directories available in EOS for this dataset)\n",
      "/SingleElectron/Run2017F-UL2017_MiniAODv2_NanoAODv9-v1/NANOAOD (No directories available in EOS for this dataset)\n",
      "/SingleMuon/Run2018A-U2018_MiniAODv2_NanoAODv9-v1/NANOAOD (No directories available in EOS for this dataset)\n",
      "/SingleMuon/Run2018B-U2018_MiniAODv2_NanoAODv9-v1/NANOAOD (No directories available in EOS for this dataset)\n",
      "/SingleMuon/Run2018C-U2018_MiniAODv2_NanoAODv9-v1/NANOAOD (No directories available in EOS for this dataset)\n",
      "/SingleMuon/Run2018D-U2018_MiniAODv2_NanoAODv9-v1/NANOAOD (No directories available in EOS for this dataset)\n",
      "/DoubleMuon/Run2018A-U2018_MiniAODv2_NanoAODv9-v1/NANOAOD (No directories available in EOS for this dataset)\n",
      "/DoubleMuon/Run2018B-U2018_MiniAODv2_NanoAODv9-v1/NANOAOD (No directories available in EOS for this dataset)\n",
      "/DoubleMuon/Run2018C-U2018_MiniAODv2_NanoAODv9-v1/NANOAOD (No directories available in EOS for this dataset)\n",
      "/DoubleMuon/Run2018D-U2018_MiniAODv2_NanoAODv9-v1/NANOAOD (No directories available in EOS for this dataset)\n",
      "/EGamma/Run2018A-U2018_MiniAODv2_NanoAODv9-v1/NANOAOD (No directories available in EOS for this dataset)\n",
      "/EGamma/Run2018B-U2018_MiniAODv2_NanoAODv9-v1/NANOAOD (No directories available in EOS for this dataset)\n",
      "/EGamma/Run2018C-U2018_MiniAODv2_NanoAODv9-v1/NANOAOD (No directories available in EOS for this dataset)\n",
      "/EGamma/Run2018D-U2018_MiniAODv2_NanoAODv9-v1/NANOAOD (No directories available in EOS for this dataset)\n"
     ]
    }
   ],
   "source": [
    "from Datasets import *\n",
    "listDatasets()"
   ]
  },
  {
   "cell_type": "markdown",
   "id": "ecf7b796",
   "metadata": {},
   "source": [
    "### Analysis\n",
    "\n",
    "Measurement of exclusive production of lepton pairs rely on two selections:\n",
    "1. Exclusive cuts - leptons are produced exclusively, i.e., no other particles produced during the proton-proton interaction\n",
    "2. Correlation between leptons and protons: Due to energy-momentum conservation, the following equation holds:\n",
    "$ \\xi_\\pm = \\frac{1}{\\sqrt{s}}\\left[ p_{T,\\ell1}\\cdot e^{\\pm\\eta_{\\ell1}} + p_{T,\\ell2}\\cdot e^{\\pm\\eta_{\\ell2}} \\right] $, where $\\xi$ is proton momentum loss, and $\\pm$ sign related to $\\xi$ reconstruction of positive/negative proton.\n",
    "\n",
    "The analysis strategy is to apply selection cuts as in (1) and then plot the difference between $\\xi$ reconstructed from leptons and $\\xi$ measured by PPS. The events where di-lepton kinematics agree with proton kinematics will be candidates for exclusive dilepton production.\n",
    "\n",
    "---\n",
    "Proton content is not available in MC yet, so here we will analyze the data, searching for the correlation between measured $\\xi$ from the proton and the predicted $\\xi$ based on the lepton kinematics. We are using data available on EOS to speed up the analysis. \n",
    "\n",
    "For the example, we will process a small amount of data:"
   ]
  },
  {
   "cell_type": "code",
   "execution_count": 3,
   "id": "195253cf",
   "metadata": {},
   "outputs": [],
   "source": [
    "#Select which datasets to use\n",
    "datasets=[\n",
    "    'Run2017B_SingleMuon',\n",
    "#    'Run2018A_EGamma',\n",
    "#    'Run2018B_DoubleMuon',\n",
    "#    'Run2018C_DoubleMuon',\n",
    "#    'Run2018D_DoubleMuon',\n",
    "]"
   ]
  },
  {
   "cell_type": "code",
   "execution_count": 5,
   "id": "86b3892c",
   "metadata": {},
   "outputs": [
    {
     "name": "stdout",
     "output_type": "stream",
     "text": [
      "found 33 files\n"
     ]
    }
   ],
   "source": [
    "#Create a list of files to analyze\n",
    "for ds in datasets:\n",
    "    listFiles=getFilesForDataset(ds)\n",
    "files = ROOT.std.vector(\"string\")(len(listFiles))\n",
    "for i,f in enumerate(listFiles):\n",
    "    files[i]=f  \n",
    "print('found %d files'%len(files))"
   ]
  },
  {
   "cell_type": "markdown",
   "id": "1ade8351",
   "metadata": {},
   "source": [
    "To read the data we will use [RDataFrame](https://root.cern.ch/doc/master/group__tutorial__dataframe.html) interface to work with nanoAOD trees."
   ]
  },
  {
   "cell_type": "code",
   "execution_count": 6,
   "id": "d4cc28d1",
   "metadata": {},
   "outputs": [],
   "source": [
    "df = ROOT.RDataFrame(\"Events\",files)"
   ]
  },
  {
   "cell_type": "code",
   "execution_count": 7,
   "id": "cbe7ed35",
   "metadata": {},
   "outputs": [
    {
     "name": "stdout",
     "output_type": "stream",
     "text": [
      "75795703 entries in the dataframe\n"
     ]
    },
    {
     "name": "stderr",
     "output_type": "stream",
     "text": [
      "Warning in <TClass::Init>: no dictionary for class edm::Hash<1> is available\n",
      "Warning in <TClass::Init>: no dictionary for class edm::ParameterSetBlob is available\n",
      "Warning in <TClass::Init>: no dictionary for class edm::ProcessHistory is available\n",
      "Warning in <TClass::Init>: no dictionary for class edm::ProcessConfiguration is available\n",
      "Warning in <TClass::Init>: no dictionary for class __pair_base<edm::Hash<1>,edm::ParameterSetBlob> is available\n",
      "Warning in <TClass::Init>: no dictionary for class pair<edm::Hash<1>,edm::ParameterSetBlob> is available\n"
     ]
    }
   ],
   "source": [
    "#print number of events in the dataframe:\n",
    "nentries=df.Count()\n",
    "print(\"%s entries in the dataframe\" %nentries.GetValue())"
   ]
  },
  {
   "cell_type": "markdown",
   "id": "675183a9",
   "metadata": {},
   "source": [
    "# 1. Exclusive cuts\n",
    "\n",
    "## Event selection\n",
    "\n",
    "We will skim the dataframe following event selection of the search for exclusive production of muon pairs ([JHEP07(2018)153](https://arxiv.org/abs/1803.04496))\n",
    "\n",
    "The following cells contain two selection codes:\n",
    "1. Preselection: which are contain selection cuts that are usually not used for the optimization\n",
    "2. Selection cuts: These cuts are optimized and are dependent on the preselection cuts."
   ]
  },
  {
   "cell_type": "code",
   "execution_count": 8,
   "id": "1393724d",
   "metadata": {},
   "outputs": [],
   "source": [
    "def preselect_dimuon(df):\n",
    "    \n",
    "    #trigger requirement\n",
    "    trigger_bits='HLT_IsoMu27'\n",
    "#    trigger_bits='HLT_Mu17_TrkIsoVVL_Mu8_TrkIsoVVL_DZ_Mass3p8 || HLT_Mu17_TrkIsoVVL_Mu8_TrkIsoVVL_DZ_Mass8'\n",
    "    df = df.Filter(trigger_bits,'Trigger')\n",
    "    \n",
    "    #muon selection\n",
    "    good_mu  = 'Muon_pt>50 && abs(Muon_eta)<2.1' #kinematics\n",
    "    good_mu += '&& Muon_tightId>0 && abs(Muon_pfRelIso04_all)<0.15' #identification + isolation\n",
    "#    good_mu += '&& Muon_sip3d<4 && abs(Muon_dxy)<0.5 && abs(Muon_dz)<1.0' #vertex association\n",
    "    df = df.Define('good_mu',good_mu).Filter('Sum(good_mu)==2','Two good muons')\n",
    "    \n",
    "    #save the good-muon related varialbes\n",
    "    for attr in ['pt','eta','phi','charge','mass']:\n",
    "        df=df.Define('good_mu_{}'.format(attr),'Muon_{}[good_mu]'.format(attr))\n",
    "#    df = df.Define(\"Acoplanarity\", \"abs(acos(cos(good_mu_phi[0]-good_mu_phi[1])))\")\n",
    "#    df = df.Define(\"mll\", \"InvariantMass(good_mu_pt, good_mu_eta, good_mu_phi, good_mu_mass)\")\n",
    "   \n",
    "    return df\n",
    "\n",
    "def select_dimuon(df):\n",
    "    \n",
    "    #charge muon1 != charge muon 2\n",
    "    df = df.Filter('good_mu_charge[0]!=good_mu_charge[1]','OS Muons')\n",
    "    \n",
    "    # Acoplanarity cut (back-to-back muons)\n",
    "    df = df.Filter('(1-abs(acos(cos(good_mu_phi[0]-good_mu_phi[1])))/M_PI)<0.09','Acoplanarity')\n",
    "    \n",
    "    # Mass cut\n",
    "    df = df.Filter('InvariantMass(good_mu_pt, good_mu_eta, good_mu_phi, good_mu_mass)>110','mll cut')\n",
    "\n",
    "    # Track selection\n",
    "    ### Missing for now  ###\n",
    "    \n",
    "    return df"
   ]
  },
  {
   "cell_type": "code",
   "execution_count": 9,
   "id": "7cc67456",
   "metadata": {},
   "outputs": [],
   "source": [
    "#preselection cuts:\n",
    "df_dimu_presel = preselect_dimuon(df)"
   ]
  },
  {
   "cell_type": "code",
   "execution_count": 10,
   "id": "12790629",
   "metadata": {},
   "outputs": [
    {
     "name": "stdout",
     "output_type": "stream",
     "text": [
      "Trigger   : pass=31909272   all=75795703   -- eff=42.10 % cumulative eff=42.10 %\n",
      "Two good muons: pass=56253      all=31909272   -- eff=0.18 % cumulative eff=0.07 %\n"
     ]
    }
   ],
   "source": [
    "# Request cut-flow report\n",
    "report = df_dimu_presel.Report()\n",
    "report.Print()"
   ]
  },
  {
   "cell_type": "markdown",
   "id": "94a6544a",
   "metadata": {},
   "source": [
    "## Pre-selection plots\n",
    "\n",
    "Before applying analysis cuts here are a few distributions we obtaind from the data:\n",
    "\n",
    "### acoplanarity\n",
    "\n",
    "Defined as $A = 1 - |\\phi_{\\ell,1}-\\phi_{\\ell,2}|/\\pi=1-|\\Delta\\phi_{\\ell\\ell}|/\\pi$. In exclusive production, both leptons should be back top back in the absence of other particles due to momentum conservation, then $A\\sim0$"
   ]
  },
  {
   "cell_type": "code",
   "execution_count": 11,
   "id": "37490ce0",
   "metadata": {},
   "outputs": [],
   "source": [
    "df_dimu_presel_acopl = df_dimu_presel.Define(\"Acoplanarity\", \"1-abs(acos(cos(good_mu_phi[0]-good_mu_phi[1])))/M_PI\")"
   ]
  },
  {
   "cell_type": "code",
   "execution_count": 12,
   "id": "a3bc369b",
   "metadata": {},
   "outputs": [],
   "source": [
    "# make histograms\n",
    "h_acopl = df_dimu_presel_acopl.Histo1D((\"Acoplanarity\", \";Acoplanarity [rad];N_{Events}\", 50, 0, 1), \"Acoplanarity\")"
   ]
  },
  {
   "cell_type": "code",
   "execution_count": 13,
   "id": "3f4ae1ed",
   "metadata": {},
   "outputs": [
    {
     "name": "stderr",
     "output_type": "stream",
     "text": [
      "Info in <TCanvas::Print>: pdf file dimuon_acoplanarity.pdf has been created\n"
     ]
    }
   ],
   "source": [
    "# Produce plots\n",
    "ROOT.gStyle.SetOptStat(0); ROOT.gStyle.SetTextFont(42)\n",
    "c = ROOT.TCanvas(\"c\", \"\", 800, 700)\n",
    "\n",
    "h_acopl.GetXaxis().SetTitleSize(0.04)\n",
    "h_acopl.GetYaxis().SetTitleSize(0.04)\n",
    "h_acopl.Draw()\n",
    "\n",
    "label = ROOT.TLatex(); label.SetNDC(True)\n",
    "label.SetTextSize(0.040); label.DrawLatex(0.100, 0.920, \"#bf{CMS Work in progress}\")\n",
    "label.SetTextSize(0.030); label.DrawLatex(0.790, 0.920, \"#sqrt{s} = 13 TeV\")\n",
    "\n",
    "c.SaveAs(\"dimuon_acoplanarity.pdf\")"
   ]
  },
  {
   "cell_type": "markdown",
   "id": "2e0d7aa5",
   "metadata": {},
   "source": [
    "### invariant mass\n",
    "\n",
    "The measurement is performed above the Z mass peak. Invariant mass computed from the two good muons can be obtained using the [ROOT::VecOps::InvariantMass()](https://root.cern/doc/master/group__vecops.html#ga2c531eae910edad48bbf7319cc6d7e58) function"
   ]
  },
  {
   "cell_type": "code",
   "execution_count": 14,
   "id": "1f94b120",
   "metadata": {},
   "outputs": [],
   "source": [
    "df_dimu_presel_mass = df_dimu_presel.Define(\"mll\", \"InvariantMass(good_mu_pt, good_mu_eta, good_mu_phi, good_mu_mass)\")\n",
    "h_mll = df_dimu_presel_mass.Histo1D((\"Dimuon_mass\", \";m_{#mu#mu} [GeV];N_{Events}\", 75, 50, 300), \"mll\")"
   ]
  },
  {
   "cell_type": "code",
   "execution_count": 15,
   "id": "61e890b1",
   "metadata": {},
   "outputs": [
    {
     "name": "stderr",
     "output_type": "stream",
     "text": [
      "Warning in <TCanvas::Constructor>: Deleting canvas with same name: c\n",
      "Info in <TCanvas::Print>: pdf file dimuon_spectrum.pdf has been created\n"
     ]
    }
   ],
   "source": [
    "# Produce plots\n",
    "ROOT.gStyle.SetOptStat(0); ROOT.gStyle.SetTextFont(42)\n",
    "c = ROOT.TCanvas(\"c\", \"\", 800, 700)\n",
    "\n",
    "h_mll.GetXaxis().SetTitleSize(0.04)\n",
    "h_mll.GetYaxis().SetTitleSize(0.04)\n",
    "h_mll.Draw()\n",
    "\n",
    "label = ROOT.TLatex(); label.SetNDC(True)\n",
    "label.SetTextSize(0.040); label.DrawLatex(0.100, 0.920, \"#bf{CMS Work in progress}\")\n",
    "label.SetTextSize(0.030); label.DrawLatex(0.790, 0.920, \"#sqrt{s} = 13 TeV\")\n",
    " \n",
    "c.SaveAs(\"dimuon_spectrum.pdf\")"
   ]
  },
  {
   "cell_type": "markdown",
   "id": "83263610",
   "metadata": {},
   "source": [
    "# Final event selection\n",
    "\n",
    "Based on analysis of signal and background distributions obtained in the previous step, final analysis cuts are selected and applied to the dataset"
   ]
  },
  {
   "cell_type": "code",
   "execution_count": 16,
   "id": "e9c2a147",
   "metadata": {},
   "outputs": [],
   "source": [
    "#event selection:\n",
    "df_dimu_sel = select_dimuon(df_dimu_presel)"
   ]
  },
  {
   "cell_type": "code",
   "execution_count": 17,
   "id": "4957ae3a",
   "metadata": {},
   "outputs": [
    {
     "name": "stdout",
     "output_type": "stream",
     "text": [
      "Trigger   : pass=31909272   all=75795703   -- eff=42.10 % cumulative eff=42.10 %\n",
      "Two good muons: pass=56253      all=31909272   -- eff=0.18 % cumulative eff=0.07 %\n",
      "OS Muons  : pass=56147      all=56253      -- eff=99.81 % cumulative eff=0.07 %\n",
      "Acoplanarity: pass=19449      all=56147      -- eff=34.64 % cumulative eff=0.03 %\n",
      "mll cut   : pass=16854      all=19449      -- eff=86.66 % cumulative eff=0.02 %\n"
     ]
    }
   ],
   "source": [
    "# Request cut-flow report\n",
    "report = df_dimu_sel.Report()\n",
    "report.Print()"
   ]
  },
  {
   "cell_type": "markdown",
   "id": "524cdfff",
   "metadata": {},
   "source": [
    "# 2. Correlation between leptons and protons\n",
    "\n",
    "## Tagged protons selection\n",
    "\n",
    "Once events with exclusive signature have been selected, correlation between the proton kimenatics and lepton kinematics is tested. In exclusive production where leptons and protons have the same origin, full correlation will be observed.\n",
    "\n",
    "Before starting with the analysis, we will select events with good tagged protons and central event kinematics (di-$\\ell$) which predict a proton within the acceptance of the PPS.\n",
    "\n",
    "### PPS acceptance:\n",
    "\n",
    "We will extract the acceptance of PPS detectors"
   ]
  },
  {
   "cell_type": "code",
   "execution_count": 26,
   "id": "eadc6794",
   "metadata": {},
   "outputs": [],
   "source": [
    "def select_proton_pos(df):\n",
    "    \n",
    "    #proton selection (will work only with 1 tagger proton per arm - 2017 data)\n",
    "    df = df.Define('xi_pr0','Sum((Proton_multiRP_arm==0)*Proton_multiRP_xi)').Filter('xi_pr0>0','proton in the positive arm') # proton in positive direction (+z)\n",
    "    \n",
    "    return df\n",
    "\n",
    "def select_proton_neg(df):\n",
    "    \n",
    "    #proton selection (will work only with 1 tagger proton per arm - 2017 data)\n",
    "    df = df.Define('xi_pr1','Sum((Proton_multiRP_arm==1)*Proton_multiRP_xi)').Filter('xi_pr1>0','proton in the negative arm') # proton in negative direction (-z)\n",
    "    \n",
    "    return df"
   ]
  },
  {
   "cell_type": "code",
   "execution_count": 27,
   "id": "0f6b1129",
   "metadata": {},
   "outputs": [
    {
     "name": "stdout",
     "output_type": "stream",
     "text": [
      "Positive arm acceptance:0.024318695068359375 <= xi <= 0.170318603515625\n"
     ]
    }
   ],
   "source": [
    "df_dimu_sel_pro0 = select_proton_pos(df_dimu_sel)\n",
    "\n",
    "minVal0 = df_dimu_sel_pro0.Min('xi_pr0')\n",
    "maxVal0 = df_dimu_sel_pro0.Max('xi_pr0')\n",
    "print(\"Positive arm acceptance:%s <= xi <= %s\" %(minVal0.GetValue(), maxVal0.GetValue()))\n",
    " "
   ]
  },
  {
   "cell_type": "code",
   "execution_count": 32,
   "id": "45e1926c",
   "metadata": {},
   "outputs": [],
   "source": [
    "df_dimu_sel_pro0_withll = df_dimu_sel_pro0.Define(\"xi0_ll\", \"Sum(good_mu_pt*exp(+good_mu_eta))/13000.\")\n",
    "df_dimu_sel_pro0_withll = df_dimu_sel_pro0_withll.Filter('xi0_ll>%s && xi0_ll<%s'%(minVal0.GetValue(), maxVal0.GetValue()),'dilep predict a proton in +z')"
   ]
  },
  {
   "cell_type": "code",
   "execution_count": 33,
   "id": "1dabb108",
   "metadata": {},
   "outputs": [
    {
     "name": "stdout",
     "output_type": "stream",
     "text": [
      "Trigger   : pass=31909272   all=75795703   -- eff=42.10 % cumulative eff=42.10 %\n",
      "Two good muons: pass=56253      all=31909272   -- eff=0.18 % cumulative eff=0.07 %\n",
      "OS Muons  : pass=56147      all=56253      -- eff=99.81 % cumulative eff=0.07 %\n",
      "Acoplanarity: pass=19449      all=56147      -- eff=34.64 % cumulative eff=0.03 %\n",
      "mll cut   : pass=16854      all=19449      -- eff=86.66 % cumulative eff=0.02 %\n",
      "proton in positive direction: pass=1591       all=16854      -- eff=9.44 % cumulative eff=0.00 %\n",
      "dilep predict a proton in +z: pass=486        all=1591       -- eff=30.55 % cumulative eff=0.00 %\n"
     ]
    }
   ],
   "source": [
    "report = df_dimu_sel_pro0_withll.Report()\n",
    "report.Print()"
   ]
  },
  {
   "cell_type": "code",
   "execution_count": 34,
   "id": "e75f476c",
   "metadata": {},
   "outputs": [
    {
     "name": "stdout",
     "output_type": "stream",
     "text": [
      "Negative arm acceptance:0.026493072509765625 <= xi <= 0.17578125\n"
     ]
    }
   ],
   "source": [
    "df_dimu_sel_pro1 = select_proton_neg(df_dimu_sel)\n",
    "\n",
    "minVal1 = df_dimu_sel_pro1.Min('xi_pr1')\n",
    "maxVal1 = df_dimu_sel_pro1.Max('xi_pr1')\n",
    "print(\"Negative arm acceptance:%s <= xi <= %s\" %(minVal1.GetValue(), maxVal1.GetValue()))\n",
    " "
   ]
  },
  {
   "cell_type": "code",
   "execution_count": 35,
   "id": "62d34a0f",
   "metadata": {},
   "outputs": [],
   "source": [
    "df_dimu_sel_pro1_withll = df_dimu_sel_pro1.Define(\"xi1_ll\", \"Sum(good_mu_pt*exp(-good_mu_eta))/13000.\")\n",
    "df_dimu_sel_pro1_withll = df_dimu_sel_pro1_withll.Filter('xi1_ll>%s  && xi1_ll<%s'%(minVal1.GetValue(), maxVal1.GetValue()),'dilep predict a proton in -z')"
   ]
  },
  {
   "cell_type": "code",
   "execution_count": 36,
   "id": "062a023b",
   "metadata": {},
   "outputs": [
    {
     "name": "stdout",
     "output_type": "stream",
     "text": [
      "Trigger   : pass=31909272   all=75795703   -- eff=42.10 % cumulative eff=42.10 %\n",
      "Two good muons: pass=56253      all=31909272   -- eff=0.18 % cumulative eff=0.07 %\n",
      "OS Muons  : pass=56147      all=56253      -- eff=99.81 % cumulative eff=0.07 %\n",
      "Acoplanarity: pass=19449      all=56147      -- eff=34.64 % cumulative eff=0.03 %\n",
      "mll cut   : pass=16854      all=19449      -- eff=86.66 % cumulative eff=0.02 %\n",
      "proton in negative direction: pass=1724       all=16854      -- eff=10.23 % cumulative eff=0.00 %\n",
      "dilep predict a proton in -z: pass=477        all=1724       -- eff=27.67 % cumulative eff=0.00 %\n"
     ]
    }
   ],
   "source": [
    "report = df_dimu_sel_pro1_withll.Report()\n",
    "report.Print()"
   ]
  },
  {
   "cell_type": "markdown",
   "id": "b885959d",
   "metadata": {},
   "source": [
    "Once the PPS acceptance is extracted, and we selected events where two-lepton kinematics suggest a proton within the PPS detector, we can inspect correlations."
   ]
  },
  {
   "cell_type": "code",
   "execution_count": 49,
   "id": "0d4ba0a3",
   "metadata": {},
   "outputs": [],
   "source": [
    "df_dimu_sel_pro0_withll_delXi = df_dimu_sel_pro0_withll.Define('DelXi','xi0_ll-xi_pr0')\n",
    "h_xi0 = df_dimu_sel_pro0_withll_delXi.Histo1D((\"Delta_xi0\", \";#xi_{ll}-#xi_{p+}};N_{Events}\", 100, -0.1, 0.1), \"DelXi\")"
   ]
  },
  {
   "cell_type": "code",
   "execution_count": 50,
   "id": "f98d9c9f",
   "metadata": {},
   "outputs": [
    {
     "name": "stderr",
     "output_type": "stream",
     "text": [
      "Warning in <TCanvas::Constructor>: Deleting canvas with same name: c\n",
      "Info in <TCanvas::Print>: pdf file correlation_positive_arm.pdf has been created\n"
     ]
    }
   ],
   "source": [
    "# Produce plots\n",
    "ROOT.gStyle.SetOptStat(0); ROOT.gStyle.SetTextFont(42)\n",
    "c = ROOT.TCanvas(\"c\", \"\", 800, 700)\n",
    "\n",
    "h_xi0.GetXaxis().SetTitleSize(0.04)\n",
    "h_xi0.GetYaxis().SetTitleSize(0.04)\n",
    "h_xi0.Draw()\n",
    "\n",
    "label = ROOT.TLatex(); label.SetNDC(True)\n",
    "label.SetTextSize(0.040); label.DrawLatex(0.100, 0.920, \"#bf{CMS Work in progress}\")\n",
    "label.SetTextSize(0.030); label.DrawLatex(0.790, 0.920, \"#sqrt{s} = 13 TeV\")\n",
    " \n",
    "c.SaveAs(\"correlation_positive_arm.pdf\")"
   ]
  },
  {
   "cell_type": "code",
   "execution_count": 46,
   "id": "16a71db0",
   "metadata": {},
   "outputs": [],
   "source": [
    "df_dimu_sel_pro1_withll_delXi = df_dimu_sel_pro1_withll.Define('DelXi','xi1_ll-xi_pr1')\n",
    "h_xi1 = df_dimu_sel_pro1_withll_delXi.Histo1D((\"Delta_xi1\", \";#xi_{ll}-#xi_{p-}};N_{Events}\", 100, -0.1, 0.1), \"DelXi\")"
   ]
  },
  {
   "cell_type": "code",
   "execution_count": 47,
   "id": "6ea4d91c",
   "metadata": {},
   "outputs": [
    {
     "name": "stderr",
     "output_type": "stream",
     "text": [
      "Warning in <TCanvas::Constructor>: Deleting canvas with same name: c\n",
      "Info in <TCanvas::Print>: pdf file correlation_negative_arm.pdf has been created\n"
     ]
    }
   ],
   "source": [
    " # Produce plots\n",
    "ROOT.gStyle.SetOptStat(0); ROOT.gStyle.SetTextFont(42)\n",
    "c = ROOT.TCanvas(\"c\", \"\", 800, 700)\n",
    "\n",
    "h_xi1.GetXaxis().SetTitleSize(0.04)\n",
    "h_xi1.GetYaxis().SetTitleSize(0.04)\n",
    "h_xi1.Draw()\n",
    "\n",
    "label = ROOT.TLatex(); label.SetNDC(True)\n",
    "label.SetTextSize(0.040); label.DrawLatex(0.100, 0.920, \"#bf{CMS Work in progress}\")\n",
    "label.SetTextSize(0.030); label.DrawLatex(0.790, 0.920, \"#sqrt{s} = 13 TeV\")\n",
    " \n",
    "c.SaveAs(\"correlation_negative_arm.pdf\")"
   ]
  },
  {
   "cell_type": "code",
   "execution_count": 55,
   "id": "e93a412d",
   "metadata": {},
   "outputs": [],
   "source": [
    "h_xi1_2D = df_dimu_sel_pro1_withll.Histo2D((\"negXi_2D\", \";#xi_{ll};#xi_{pp}\", 64, 0., 0.2, 32, 0., 0.2), \"xi1_ll\", \"xi_pr1\");"
   ]
  },
  {
   "cell_type": "code",
   "execution_count": null,
   "id": "a46133db",
   "metadata": {},
   "outputs": [],
   "source": [
    " # Produce plots\n",
    "ROOT.gStyle.SetOptStat(0); ROOT.gStyle.SetTextFont(42)\n",
    "c = ROOT.TCanvas(\"c\", \"\", 800, 700)\n",
    "\n",
    "h_xi1_2D.GetXaxis().SetTitleSize(0.04)\n",
    "h_xi1_2D.GetYaxis().SetTitleSize(0.04)\n",
    "h_xi1_2D.Draw('colz')\n",
    "\n",
    "label = ROOT.TLatex(); label.SetNDC(True)\n",
    "label.SetTextSize(0.040); label.DrawLatex(0.100, 0.920, \"#bf{CMS Work in progress}\")\n",
    "label.SetTextSize(0.030); label.DrawLatex(0.790, 0.920, \"#sqrt{s} = 13 TeV\")\n",
    " \n",
    "c.SaveAs(\"correlation_negative_arm_2D.pdf\")"
   ]
  },
  {
   "cell_type": "code",
   "execution_count": null,
   "id": "587831fd",
   "metadata": {},
   "outputs": [],
   "source": []
  }
 ],
 "metadata": {
  "kernelspec": {
   "display_name": "Python 3",
   "language": "python",
   "name": "python3"
  },
  "language_info": {
   "codemirror_mode": {
    "name": "ipython",
    "version": 3
   },
   "file_extension": ".py",
   "mimetype": "text/x-python",
   "name": "python",
   "nbconvert_exporter": "python",
   "pygments_lexer": "ipython3",
   "version": "3.8.6"
  }
 },
 "nbformat": 4,
 "nbformat_minor": 5
}
