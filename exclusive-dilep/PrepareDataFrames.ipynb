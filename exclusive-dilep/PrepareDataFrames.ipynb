{
 "cells": [
  {
   "cell_type": "markdown",
   "id": "4a053881",
   "metadata": {},
   "source": [
    "# Pre-processing of data\n",
    "\n",
    "### Introduction\n",
    "\n",
    "This notebook is used to process the data stored in [NANOAOD](https://twiki.cern.ch/twiki/bin/view/CMSPublic/WorkBookNanoAOD) format, and dump a smaller root file with relevant variables to be used in exclusive dilepton analysis, $pp\\to p\\oplus\\ell\\ell\\oplus p$, with $\\ell\\in\\{ e,\\mu,\\tau \\} $. Feinman diagram of this process is shown bellow: \n",
    "\n",
    "<img src=\"img/diagrams.png\" alt=\"Feinmann diagrams\"/>\n",
    "\n"
   ]
  },
  {
   "cell_type": "markdown",
   "id": "a6209da4",
   "metadata": {},
   "source": [
    "This notebook was prepared based on the [df102_NanoAODDimuonAnalysis.py](https://root.cern.ch/doc/master/group__tutorial__dataframe.html) example from ROOT."
   ]
  },
  {
   "cell_type": "code",
   "execution_count": 1,
   "id": "988c84cf",
   "metadata": {},
   "outputs": [
    {
     "name": "stdout",
     "output_type": "stream",
     "text": [
      "Welcome to JupyROOT 6.24/00\n"
     ]
    }
   ],
   "source": [
    "import ROOT\n",
    " \n",
    "# Enable multi-threading\n",
    "ROOT.ROOT.EnableImplicitMT()"
   ]
  },
  {
   "cell_type": "markdown",
   "id": "15a242d0",
   "metadata": {},
   "source": [
    "### Datasets\n",
    "`Datasets.py` contains the list of 2018 datasets to be used in the analysis. "
   ]
  },
  {
   "cell_type": "code",
   "execution_count": 20,
   "id": "79546d8c",
   "metadata": {},
   "outputs": [
    {
     "name": "stdout",
     "output_type": "stream",
     "text": [
      "The following datasets are available: ['MC2018_DY', 'MC2018_DYMuMu_Pom', 'Data2018A_DoubleMu', 'Data2018B_DoubleMu', 'Data2018C_DoubleMu', 'Data2018D_DoubleMu', 'Data2018A_EGamma', 'Data2018B_EGamma', 'Data2018C_EGamma', 'Data2018D_EGamma']\n"
     ]
    }
   ],
   "source": [
    "listDatasets()"
   ]
  },
  {
   "cell_type": "code",
   "execution_count": null,
   "id": "c07e9440",
   "metadata": {},
   "outputs": [],
   "source": []
  },
  {
   "cell_type": "code",
   "execution_count": null,
   "id": "97b6246e",
   "metadata": {},
   "outputs": [],
   "source": []
  },
  {
   "cell_type": "code",
   "execution_count": null,
   "id": "a2e2a13a",
   "metadata": {},
   "outputs": [],
   "source": []
  },
  {
   "cell_type": "code",
   "execution_count": null,
   "id": "6ea4d91c",
   "metadata": {},
   "outputs": [],
   "source": [
    "df = ROOT.RDataFrame(\"Events\", \"root://eospublic.cern.ch//eos/opendata/cms/derived-data/AOD2NanoAODOutreachTool/Run2012BC_DoubleMuParked_Muons.root\")\n",
    " \n",
    "# For simplicity, select only events with exactly two muons and require opposite charge\n",
    "df_2mu = df.Filter(\"nMuon == 2\", \"Events with exactly two muons\")\n",
    "df_os = df_2mu.Filter(\"Muon_charge[0] != Muon_charge[1]\", \"Muons with opposite charge\")\n",
    " \n",
    "# Compute invariant mass of the dimuon system\n",
    "df_mass = df_os.Define(\"Dimuon_mass\", \"InvariantMass(Muon_pt, Muon_eta, Muon_phi, Muon_mass)\")\n",
    " \n",
    "# Make histogram of dimuon mass spectrum. Note how we can set titles and axis labels in one go.\n",
    "h = df_mass.Histo1D((\"Dimuon_mass\", \"Dimuon mass;m_{#mu#mu} (GeV);N_{Events}\", 30000, 0.25, 300), \"Dimuon_mass\")\n",
    " \n",
    "# Request cut-flow report\n",
    "report = df_mass.Report()\n",
    " \n",
    "# Produce plot\n",
    "ROOT.gStyle.SetOptStat(0); ROOT.gStyle.SetTextFont(42)\n",
    "c = ROOT.TCanvas(\"c\", \"\", 800, 700)\n",
    "c.SetLogx(); c.SetLogy()\n",
    " \n",
    "h.SetTitle(\"\")\n",
    "h.GetXaxis().SetTitleSize(0.04)\n",
    "h.GetYaxis().SetTitleSize(0.04)\n",
    "h.Draw()\n",
    " \n",
    "label = ROOT.TLatex(); label.SetNDC(True)\n",
    "label.DrawLatex(0.175, 0.740, \"#eta\")\n",
    "label.DrawLatex(0.205, 0.775, \"#rho,#omega\")\n",
    "label.DrawLatex(0.270, 0.740, \"#phi\")\n",
    "label.DrawLatex(0.400, 0.800, \"J/#psi\")\n",
    "label.DrawLatex(0.415, 0.670, \"#psi'\")\n",
    "label.DrawLatex(0.485, 0.700, \"Y(1,2,3S)\")\n",
    "label.DrawLatex(0.755, 0.680, \"Z\")\n",
    "label.SetTextSize(0.040); label.DrawLatex(0.100, 0.920, \"#bf{CMS Open Data}\")\n",
    "label.SetTextSize(0.030); label.DrawLatex(0.630, 0.920, \"#sqrt{s} = 8 TeV, L_{int} = 11.6 fb^{-1}\")\n",
    " \n",
    "c.SaveAs(\"dimuon_spectrum.pdf\")\n",
    " \n",
    "# Print cut-flow report\n",
    "report.Print()"
   ]
  }
 ],
 "metadata": {
  "kernelspec": {
   "display_name": "Python 3",
   "language": "python",
   "name": "python3"
  },
  "language_info": {
   "codemirror_mode": {
    "name": "ipython",
    "version": 3
   },
   "file_extension": ".py",
   "mimetype": "text/x-python",
   "name": "python",
   "nbconvert_exporter": "python",
   "pygments_lexer": "ipython3",
   "version": "3.8.6"
  }
 },
 "nbformat": 4,
 "nbformat_minor": 5
}
